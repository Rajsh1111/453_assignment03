{
 "cells": [
  {
   "cell_type": "markdown",
   "metadata": {},
   "source": [
    "# Setup"
   ]
  },
  {
   "cell_type": "markdown",
   "metadata": {},
   "source": [
    "## Import and check packages"
   ]
  },
  {
   "cell_type": "code",
   "execution_count": 100,
   "metadata": {},
   "outputs": [],
   "source": [
    "import sys\n",
    "import json\n",
    "import pandas as pd\n",
    "import numpy as np\n",
    "import os\n",
    "import csv\n",
    "import re, string"
   ]
  },
  {
   "cell_type": "code",
   "execution_count": 101,
   "metadata": {},
   "outputs": [
    {
     "output_type": "stream",
     "name": "stdout",
     "text": "Version check:\nPython: 3.8.2 (default, Apr 27 2020, 15:53:34) \n[GCC 9.3.0]\npandas: 1.0.3\nregex: 2.2.1\n"
    }
   ],
   "source": [
    "print('Version check:')\n",
    "print('Python: {}'.format(sys.version))\n",
    "print('pandas: {}'.format(pd.__version__))\n",
    "print('regex: {}'.format(re.__version__))"
   ]
  },
  {
   "cell_type": "markdown",
   "metadata": {},
   "source": [
    "## Functions"
   ]
  },
  {
   "cell_type": "code",
   "execution_count": 102,
   "metadata": {},
   "outputs": [],
   "source": [
    "def parse_file(path):\n",
    "    data = list()\n",
    "    with open(path, 'r') as f:\n",
    "        csv_reader = csv.reader(f, delimiter=',')\n",
    "        for row in csv_reader:\n",
    "            data.append(row)\n",
    "\n",
    "    return data"
   ]
  },
  {
   "cell_type": "markdown",
   "metadata": {},
   "source": [
    "# Import and prepare data"
   ]
  },
  {
   "cell_type": "code",
   "execution_count": 103,
   "metadata": {},
   "outputs": [
    {
     "output_type": "execute_result",
     "data": {
      "text/plain": "54"
     },
     "metadata": {},
     "execution_count": 103
    }
   ],
   "source": [
    "path = '/home/specc/Documents/school_files/453_nlp/assignment03_files/data_files/'\n",
    "os.chdir(path) # set path to data files\n",
    "len(os.listdir()) # check how many files are present"
   ]
  },
  {
   "cell_type": "code",
   "execution_count": 104,
   "metadata": {},
   "outputs": [
    {
     "output_type": "error",
     "ename": "UnicodeDecodeError",
     "evalue": "'utf-8' codec can't decode byte 0x80 in position 0: invalid start byte",
     "traceback": [
      "\u001b[0;31m---------------------------------------------------------------------------\u001b[0m",
      "\u001b[0;31mUnicodeDecodeError\u001b[0m                        Traceback (most recent call last)",
      "\u001b[0;32m<ipython-input-104-7aadd4ab623d>\u001b[0m in \u001b[0;36m<module>\u001b[0;34m\u001b[0m\n\u001b[1;32m      2\u001b[0m \u001b[0;32mfor\u001b[0m \u001b[0mitem\u001b[0m \u001b[0;32min\u001b[0m \u001b[0mos\u001b[0m\u001b[0;34m.\u001b[0m\u001b[0mlistdir\u001b[0m\u001b[0;34m(\u001b[0m\u001b[0;34m)\u001b[0m\u001b[0;34m:\u001b[0m\u001b[0;34m\u001b[0m\u001b[0;34m\u001b[0m\u001b[0m\n\u001b[1;32m      3\u001b[0m     \u001b[0mtest_path\u001b[0m \u001b[0;34m=\u001b[0m \u001b[0mitem\u001b[0m\u001b[0;34m\u001b[0m\u001b[0;34m\u001b[0m\u001b[0m\n\u001b[0;32m----> 4\u001b[0;31m     \u001b[0mdata\u001b[0m \u001b[0;34m=\u001b[0m \u001b[0mparse_file\u001b[0m\u001b[0;34m(\u001b[0m\u001b[0mitem\u001b[0m\u001b[0;34m)\u001b[0m\u001b[0;34m\u001b[0m\u001b[0;34m\u001b[0m\u001b[0m\n\u001b[0m\u001b[1;32m      5\u001b[0m     \u001b[0mtemp_df\u001b[0m \u001b[0;34m=\u001b[0m \u001b[0mpd\u001b[0m\u001b[0;34m.\u001b[0m\u001b[0mDataFrame\u001b[0m\u001b[0;34m(\u001b[0m\u001b[0mdata\u001b[0m\u001b[0;34m[\u001b[0m\u001b[0;36m1\u001b[0m\u001b[0;34m:\u001b[0m\u001b[0;34m]\u001b[0m\u001b[0;34m,\u001b[0m \u001b[0mcolumns\u001b[0m\u001b[0;34m=\u001b[0m\u001b[0mdata\u001b[0m\u001b[0;34m[\u001b[0m\u001b[0;36m0\u001b[0m\u001b[0;34m]\u001b[0m\u001b[0;34m)\u001b[0m\u001b[0;34m\u001b[0m\u001b[0;34m\u001b[0m\u001b[0m\n\u001b[1;32m      6\u001b[0m     \u001b[0mdf\u001b[0m \u001b[0;34m=\u001b[0m \u001b[0mpd\u001b[0m\u001b[0;34m.\u001b[0m\u001b[0mconcat\u001b[0m\u001b[0;34m(\u001b[0m\u001b[0;34m[\u001b[0m\u001b[0mdf\u001b[0m\u001b[0;34m,\u001b[0m \u001b[0mtemp_df\u001b[0m\u001b[0;34m]\u001b[0m\u001b[0;34m,\u001b[0m \u001b[0mignore_index\u001b[0m\u001b[0;34m=\u001b[0m\u001b[0;36m0\u001b[0m\u001b[0;34m)\u001b[0m\u001b[0;34m\u001b[0m\u001b[0;34m\u001b[0m\u001b[0m\n",
      "\u001b[0;32m<ipython-input-102-ba9f10ff6e30>\u001b[0m in \u001b[0;36mparse_file\u001b[0;34m(path)\u001b[0m\n\u001b[1;32m      3\u001b[0m     \u001b[0;32mwith\u001b[0m \u001b[0mopen\u001b[0m\u001b[0;34m(\u001b[0m\u001b[0mpath\u001b[0m\u001b[0;34m,\u001b[0m \u001b[0;34m'r'\u001b[0m\u001b[0;34m)\u001b[0m \u001b[0;32mas\u001b[0m \u001b[0mf\u001b[0m\u001b[0;34m:\u001b[0m\u001b[0;34m\u001b[0m\u001b[0;34m\u001b[0m\u001b[0m\n\u001b[1;32m      4\u001b[0m         \u001b[0mcsv_reader\u001b[0m \u001b[0;34m=\u001b[0m \u001b[0mcsv\u001b[0m\u001b[0;34m.\u001b[0m\u001b[0mreader\u001b[0m\u001b[0;34m(\u001b[0m\u001b[0mf\u001b[0m\u001b[0;34m,\u001b[0m \u001b[0mdelimiter\u001b[0m\u001b[0;34m=\u001b[0m\u001b[0;34m','\u001b[0m\u001b[0;34m)\u001b[0m\u001b[0;34m\u001b[0m\u001b[0;34m\u001b[0m\u001b[0m\n\u001b[0;32m----> 5\u001b[0;31m         \u001b[0;32mfor\u001b[0m \u001b[0mrow\u001b[0m \u001b[0;32min\u001b[0m \u001b[0mcsv_reader\u001b[0m\u001b[0;34m:\u001b[0m\u001b[0;34m\u001b[0m\u001b[0;34m\u001b[0m\u001b[0m\n\u001b[0m\u001b[1;32m      6\u001b[0m             \u001b[0mdata\u001b[0m\u001b[0;34m.\u001b[0m\u001b[0mappend\u001b[0m\u001b[0;34m(\u001b[0m\u001b[0mrow\u001b[0m\u001b[0;34m)\u001b[0m\u001b[0;34m\u001b[0m\u001b[0;34m\u001b[0m\u001b[0m\n\u001b[1;32m      7\u001b[0m \u001b[0;34m\u001b[0m\u001b[0m\n",
      "\u001b[0;32m/usr/lib/python3.8/codecs.py\u001b[0m in \u001b[0;36mdecode\u001b[0;34m(self, input, final)\u001b[0m\n\u001b[1;32m    320\u001b[0m         \u001b[0;31m# decode input (taking the buffer into account)\u001b[0m\u001b[0;34m\u001b[0m\u001b[0;34m\u001b[0m\u001b[0;34m\u001b[0m\u001b[0m\n\u001b[1;32m    321\u001b[0m         \u001b[0mdata\u001b[0m \u001b[0;34m=\u001b[0m \u001b[0mself\u001b[0m\u001b[0;34m.\u001b[0m\u001b[0mbuffer\u001b[0m \u001b[0;34m+\u001b[0m \u001b[0minput\u001b[0m\u001b[0;34m\u001b[0m\u001b[0;34m\u001b[0m\u001b[0m\n\u001b[0;32m--> 322\u001b[0;31m         \u001b[0;34m(\u001b[0m\u001b[0mresult\u001b[0m\u001b[0;34m,\u001b[0m \u001b[0mconsumed\u001b[0m\u001b[0;34m)\u001b[0m \u001b[0;34m=\u001b[0m \u001b[0mself\u001b[0m\u001b[0;34m.\u001b[0m\u001b[0m_buffer_decode\u001b[0m\u001b[0;34m(\u001b[0m\u001b[0mdata\u001b[0m\u001b[0;34m,\u001b[0m \u001b[0mself\u001b[0m\u001b[0;34m.\u001b[0m\u001b[0merrors\u001b[0m\u001b[0;34m,\u001b[0m \u001b[0mfinal\u001b[0m\u001b[0;34m)\u001b[0m\u001b[0;34m\u001b[0m\u001b[0;34m\u001b[0m\u001b[0m\n\u001b[0m\u001b[1;32m    323\u001b[0m         \u001b[0;31m# keep undecoded input until the next call\u001b[0m\u001b[0;34m\u001b[0m\u001b[0;34m\u001b[0m\u001b[0;34m\u001b[0m\u001b[0m\n\u001b[1;32m    324\u001b[0m         \u001b[0mself\u001b[0m\u001b[0;34m.\u001b[0m\u001b[0mbuffer\u001b[0m \u001b[0;34m=\u001b[0m \u001b[0mdata\u001b[0m\u001b[0;34m[\u001b[0m\u001b[0mconsumed\u001b[0m\u001b[0;34m:\u001b[0m\u001b[0;34m]\u001b[0m\u001b[0;34m\u001b[0m\u001b[0;34m\u001b[0m\u001b[0m\n",
      "\u001b[0;31mUnicodeDecodeError\u001b[0m: 'utf-8' codec can't decode byte 0x80 in position 0: invalid start byte"
     ]
    }
   ],
   "source": [
    "df = pd.DataFrame()\n",
    "for item in os.listdir():\n",
    "    test_path = item\n",
    "    data = parse_file(item)\n",
    "    temp_df = pd.DataFrame(data[1:], columns=data[0])\n",
    "    df = pd.concat([df, temp_df], ignore_index=0)"
   ]
  },
  {
   "cell_type": "code",
   "execution_count": 105,
   "metadata": {},
   "outputs": [
    {
     "output_type": "execute_result",
     "data": {
      "text/plain": "                      Review_Date Author_Name  \\\n0  0   on 12/09/09 14:11 PM (PST)  regretful    \n1  1   on 06/16/16 16:14 PM (PDT)      David    \n2  2   on 10/27/15 18:28 PM (PDT)        Vic    \n3  3   on 09/22/10 00:00 AM (PDT)     mollyd    \n4  4   on 06/26/18 07:38 AM (PDT)   Steve B.    \n\n                                       Vehicle_Title  \\\n0  2009 Pontiac Torrent GXP GXP 4dr SUV AWD (3.6L...   \n1    2009 Pontiac Torrent SUV 4dr SUV (3.4L 6cyl 5A)   \n2    2009 Pontiac Torrent SUV 4dr SUV (3.4L 6cyl 5A)   \n3  2009 Pontiac Torrent SUV 4dr SUV AWD (3.4L 6cy...   \n4    2006 Pontiac Torrent SUV 4dr SUV (3.4L 6cyl 5A)   \n\n                                        Review_Title  \\\n0                                          regretful   \n1  2009 Pontiac Torrent 3.4L V6 AWDI have had a P...   \n2                           Great, reliable car/SUV.   \n3                          Driving it until it dies.   \n4                                      Excellent SUV   \n\n                                              Review Rating  \n0   GM says 16/24 mileage,more like 12/19,that's ...  3.875  \n1   I have had a 2009 Pontiac Torrent AWD 3.4 L V...      4  \n2   Sold it. (But loved it and miss it!)Super dep...      5  \n3   Originally owned a 2007, traded in for a 2009...    4.5  \n4   Bought new off the showroom floor,now has 325...      5  ",
      "text/html": "<div>\n<style scoped>\n    .dataframe tbody tr th:only-of-type {\n        vertical-align: middle;\n    }\n\n    .dataframe tbody tr th {\n        vertical-align: top;\n    }\n\n    .dataframe thead th {\n        text-align: right;\n    }\n</style>\n<table border=\"1\" class=\"dataframe\">\n  <thead>\n    <tr style=\"text-align: right;\">\n      <th></th>\n      <th></th>\n      <th>Review_Date</th>\n      <th>Author_Name</th>\n      <th>Vehicle_Title</th>\n      <th>Review_Title</th>\n      <th>Review</th>\n      <th>Rating</th>\n    </tr>\n  </thead>\n  <tbody>\n    <tr>\n      <th>0</th>\n      <td>0</td>\n      <td>on 12/09/09 14:11 PM (PST)</td>\n      <td>regretful</td>\n      <td>2009 Pontiac Torrent GXP GXP 4dr SUV AWD (3.6L...</td>\n      <td>regretful</td>\n      <td>GM says 16/24 mileage,more like 12/19,that's ...</td>\n      <td>3.875</td>\n    </tr>\n    <tr>\n      <th>1</th>\n      <td>1</td>\n      <td>on 06/16/16 16:14 PM (PDT)</td>\n      <td>David</td>\n      <td>2009 Pontiac Torrent SUV 4dr SUV (3.4L 6cyl 5A)</td>\n      <td>2009 Pontiac Torrent 3.4L V6 AWDI have had a P...</td>\n      <td>I have had a 2009 Pontiac Torrent AWD 3.4 L V...</td>\n      <td>4</td>\n    </tr>\n    <tr>\n      <th>2</th>\n      <td>2</td>\n      <td>on 10/27/15 18:28 PM (PDT)</td>\n      <td>Vic</td>\n      <td>2009 Pontiac Torrent SUV 4dr SUV (3.4L 6cyl 5A)</td>\n      <td>Great, reliable car/SUV.</td>\n      <td>Sold it. (But loved it and miss it!)Super dep...</td>\n      <td>5</td>\n    </tr>\n    <tr>\n      <th>3</th>\n      <td>3</td>\n      <td>on 09/22/10 00:00 AM (PDT)</td>\n      <td>mollyd</td>\n      <td>2009 Pontiac Torrent SUV 4dr SUV AWD (3.4L 6cy...</td>\n      <td>Driving it until it dies.</td>\n      <td>Originally owned a 2007, traded in for a 2009...</td>\n      <td>4.5</td>\n    </tr>\n    <tr>\n      <th>4</th>\n      <td>4</td>\n      <td>on 06/26/18 07:38 AM (PDT)</td>\n      <td>Steve B.</td>\n      <td>2006 Pontiac Torrent SUV 4dr SUV (3.4L 6cyl 5A)</td>\n      <td>Excellent SUV</td>\n      <td>Bought new off the showroom floor,now has 325...</td>\n      <td>5</td>\n    </tr>\n  </tbody>\n</table>\n</div>"
     },
     "metadata": {},
     "execution_count": 105
    }
   ],
   "source": [
    "df.head()"
   ]
  },
  {
   "cell_type": "code",
   "execution_count": 106,
   "metadata": {},
   "outputs": [
    {
     "output_type": "execute_result",
     "data": {
      "text/plain": "                            Review_Date  Author_Name  \\\n6646  4783   on 04/27/04 00:00 AM (PDT)  AceRick124    \n6647  4784   on 11/24/03 00:00 AM (PST)        Mrjb    \n6648  4785   on 04/09/02 00:00 AM (PDT)        ugly    \n6649  4786   on 03/15/02 08:35 AM (PST)     Raleigh    \n6650  4787   on 03/07/02 10:45 AM (PST)        Ed D    \n\n                                          Vehicle_Title  \\\n6646   1997 Mitsubishi Montero Sport SUV LS 4dr SUV 4WD   \n6647   1997 Mitsubishi Montero Sport SUV LS 4dr SUV 4WD   \n6648  1997 Mitsubishi Montero Sport SUV XLS 4dr SUV 4WD   \n6649  1997 Mitsubishi Montero Sport SUV XLS 4dr SUV 4WD   \n6650   1997 Mitsubishi Montero Sport SUV LS 4dr SUV 4WD   \n\n                   Review_Title  \\\n6646                  great SUV   \n6647                      Nice!   \n6648  Good value for your money   \n6649          Reliability Is It   \n6650                 # 1 Review   \n\n                                                 Review Rating  \n6646   bought at carmax 4/03 and drove for a \\nyear....  4.375  \n6647   Bought the car used (35k miles) Drove \\nit fo...    4.5  \n6648   I have had this vehicle for a little \\nover t...   4.25  \n6649   This is my 3rd Mitsubishi.  I've enjoyed all ...  4.875  \n6650   several times check engine light has come on ...   3.75  ",
      "text/html": "<div>\n<style scoped>\n    .dataframe tbody tr th:only-of-type {\n        vertical-align: middle;\n    }\n\n    .dataframe tbody tr th {\n        vertical-align: top;\n    }\n\n    .dataframe thead th {\n        text-align: right;\n    }\n</style>\n<table border=\"1\" class=\"dataframe\">\n  <thead>\n    <tr style=\"text-align: right;\">\n      <th></th>\n      <th></th>\n      <th>Review_Date</th>\n      <th>Author_Name</th>\n      <th>Vehicle_Title</th>\n      <th>Review_Title</th>\n      <th>Review</th>\n      <th>Rating</th>\n    </tr>\n  </thead>\n  <tbody>\n    <tr>\n      <th>6646</th>\n      <td>4783</td>\n      <td>on 04/27/04 00:00 AM (PDT)</td>\n      <td>AceRick124</td>\n      <td>1997 Mitsubishi Montero Sport SUV LS 4dr SUV 4WD</td>\n      <td>great SUV</td>\n      <td>bought at carmax 4/03 and drove for a \\nyear....</td>\n      <td>4.375</td>\n    </tr>\n    <tr>\n      <th>6647</th>\n      <td>4784</td>\n      <td>on 11/24/03 00:00 AM (PST)</td>\n      <td>Mrjb</td>\n      <td>1997 Mitsubishi Montero Sport SUV LS 4dr SUV 4WD</td>\n      <td>Nice!</td>\n      <td>Bought the car used (35k miles) Drove \\nit fo...</td>\n      <td>4.5</td>\n    </tr>\n    <tr>\n      <th>6648</th>\n      <td>4785</td>\n      <td>on 04/09/02 00:00 AM (PDT)</td>\n      <td>ugly</td>\n      <td>1997 Mitsubishi Montero Sport SUV XLS 4dr SUV 4WD</td>\n      <td>Good value for your money</td>\n      <td>I have had this vehicle for a little \\nover t...</td>\n      <td>4.25</td>\n    </tr>\n    <tr>\n      <th>6649</th>\n      <td>4786</td>\n      <td>on 03/15/02 08:35 AM (PST)</td>\n      <td>Raleigh</td>\n      <td>1997 Mitsubishi Montero Sport SUV XLS 4dr SUV 4WD</td>\n      <td>Reliability Is It</td>\n      <td>This is my 3rd Mitsubishi.  I've enjoyed all ...</td>\n      <td>4.875</td>\n    </tr>\n    <tr>\n      <th>6650</th>\n      <td>4787</td>\n      <td>on 03/07/02 10:45 AM (PST)</td>\n      <td>Ed D</td>\n      <td>1997 Mitsubishi Montero Sport SUV LS 4dr SUV 4WD</td>\n      <td># 1 Review</td>\n      <td>several times check engine light has come on ...</td>\n      <td>3.75</td>\n    </tr>\n  </tbody>\n</table>\n</div>"
     },
     "metadata": {},
     "execution_count": 106
    }
   ],
   "source": [
    "df.tail()"
   ]
  },
  {
   "cell_type": "markdown",
   "metadata": {},
   "source": [
    "## Drop rows with no text review"
   ]
  },
  {
   "cell_type": "code",
   "execution_count": 107,
   "metadata": {},
   "outputs": [
    {
     "output_type": "execute_result",
     "data": {
      "text/plain": "22619"
     },
     "metadata": {},
     "execution_count": 107
    }
   ],
   "source": [
    "start_count = len(df)\n",
    "start_count"
   ]
  },
  {
   "cell_type": "code",
   "execution_count": 108,
   "metadata": {},
   "outputs": [
    {
     "output_type": "execute_result",
     "data": {
      "text/plain": "                                                        Review_Date  \\\n116   Car washes and heavy rain fill this compartmen...         3.5   \n193                    Conkle pontiac.   Problems with         None   \n194                     interior features from day 1.          None   \n195                      Winshield leaked damaging the         None   \n196                  headliner.  In the first month of         None   \n...                                                 ...         ...   \n6635                interior is well laid out. no long         None   \n6636             reaches for controls. the gas mileage         None   \n6637            is a little weak (16) miles per gallon         None   \n6638           but the comfort on long trips more than         None   \n6639                                   makes up for it!       4.625   \n\n     Author_Name Vehicle_Title Review_Title Review Rating  \n116         None          None         None   None   None  \n193         None          None         None   None   None  \n194         None          None         None   None   None  \n195         None          None         None   None   None  \n196         None          None         None   None   None  \n...          ...           ...          ...    ...    ...  \n6635        None          None         None   None   None  \n6636        None          None         None   None   None  \n6637        None          None         None   None   None  \n6638        None          None         None   None   None  \n6639        None          None         None   None   None  \n\n[5106 rows x 7 columns]",
      "text/html": "<div>\n<style scoped>\n    .dataframe tbody tr th:only-of-type {\n        vertical-align: middle;\n    }\n\n    .dataframe tbody tr th {\n        vertical-align: top;\n    }\n\n    .dataframe thead th {\n        text-align: right;\n    }\n</style>\n<table border=\"1\" class=\"dataframe\">\n  <thead>\n    <tr style=\"text-align: right;\">\n      <th></th>\n      <th></th>\n      <th>Review_Date</th>\n      <th>Author_Name</th>\n      <th>Vehicle_Title</th>\n      <th>Review_Title</th>\n      <th>Review</th>\n      <th>Rating</th>\n    </tr>\n  </thead>\n  <tbody>\n    <tr>\n      <th>116</th>\n      <td>Car washes and heavy rain fill this compartmen...</td>\n      <td>3.5</td>\n      <td>None</td>\n      <td>None</td>\n      <td>None</td>\n      <td>None</td>\n      <td>None</td>\n    </tr>\n    <tr>\n      <th>193</th>\n      <td>Conkle pontiac.   Problems with</td>\n      <td>None</td>\n      <td>None</td>\n      <td>None</td>\n      <td>None</td>\n      <td>None</td>\n      <td>None</td>\n    </tr>\n    <tr>\n      <th>194</th>\n      <td>interior features from day 1.</td>\n      <td>None</td>\n      <td>None</td>\n      <td>None</td>\n      <td>None</td>\n      <td>None</td>\n      <td>None</td>\n    </tr>\n    <tr>\n      <th>195</th>\n      <td>Winshield leaked damaging the</td>\n      <td>None</td>\n      <td>None</td>\n      <td>None</td>\n      <td>None</td>\n      <td>None</td>\n      <td>None</td>\n    </tr>\n    <tr>\n      <th>196</th>\n      <td>headliner.  In the first month of</td>\n      <td>None</td>\n      <td>None</td>\n      <td>None</td>\n      <td>None</td>\n      <td>None</td>\n      <td>None</td>\n    </tr>\n    <tr>\n      <th>...</th>\n      <td>...</td>\n      <td>...</td>\n      <td>...</td>\n      <td>...</td>\n      <td>...</td>\n      <td>...</td>\n      <td>...</td>\n    </tr>\n    <tr>\n      <th>6635</th>\n      <td>interior is well laid out. no long</td>\n      <td>None</td>\n      <td>None</td>\n      <td>None</td>\n      <td>None</td>\n      <td>None</td>\n      <td>None</td>\n    </tr>\n    <tr>\n      <th>6636</th>\n      <td>reaches for controls. the gas mileage</td>\n      <td>None</td>\n      <td>None</td>\n      <td>None</td>\n      <td>None</td>\n      <td>None</td>\n      <td>None</td>\n    </tr>\n    <tr>\n      <th>6637</th>\n      <td>is a little weak (16) miles per gallon</td>\n      <td>None</td>\n      <td>None</td>\n      <td>None</td>\n      <td>None</td>\n      <td>None</td>\n      <td>None</td>\n    </tr>\n    <tr>\n      <th>6638</th>\n      <td>but the comfort on long trips more than</td>\n      <td>None</td>\n      <td>None</td>\n      <td>None</td>\n      <td>None</td>\n      <td>None</td>\n      <td>None</td>\n    </tr>\n    <tr>\n      <th>6639</th>\n      <td>makes up for it!</td>\n      <td>4.625</td>\n      <td>None</td>\n      <td>None</td>\n      <td>None</td>\n      <td>None</td>\n      <td>None</td>\n    </tr>\n  </tbody>\n</table>\n<p>5106 rows × 7 columns</p>\n</div>"
     },
     "metadata": {},
     "execution_count": 108
    }
   ],
   "source": [
    "df[df['Review'].isnull()]"
   ]
  },
  {
   "cell_type": "code",
   "execution_count": 109,
   "metadata": {},
   "outputs": [
    {
     "output_type": "execute_result",
     "data": {
      "text/plain": "                 work on it.  My audio controls and all \nReview_Date                                         None\nAuthor_Name                                         None\nVehicle_Title                                       None\nReview_Title                                        None\nReview                                              None\nRating                                              None\nName: 200, dtype: object"
     },
     "metadata": {},
     "execution_count": 109
    }
   ],
   "source": [
    "df.iloc[200]"
   ]
  },
  {
   "cell_type": "code",
   "execution_count": 110,
   "metadata": {},
   "outputs": [
    {
     "output_type": "execute_result",
     "data": {
      "text/plain": "                 until the gas cap was replaced; \nReview_Date                                  None\nAuthor_Name                                  None\nVehicle_Title                                None\nReview_Title                                 None\nReview                                       None\nRating                                       None\nName: 500, dtype: object"
     },
     "metadata": {},
     "execution_count": 110
    }
   ],
   "source": [
    "df.iloc[500]"
   ]
  },
  {
   "cell_type": "code",
   "execution_count": 111,
   "metadata": {},
   "outputs": [
    {
     "output_type": "execute_result",
     "data": {
      "text/plain": "Index(['', 'Review_Date', 'Author_Name', 'Vehicle_Title', 'Review_Title',\n       'Review', 'Rating'],\n      dtype='object')"
     },
     "metadata": {},
     "execution_count": 111
    }
   ],
   "source": [
    "df.columns"
   ]
  },
  {
   "cell_type": "code",
   "execution_count": 112,
   "metadata": {},
   "outputs": [],
   "source": [
    "df = df[df['Review'].notnull()] # removing odd data points"
   ]
  },
  {
   "cell_type": "code",
   "execution_count": 113,
   "metadata": {},
   "outputs": [],
   "source": [
    "dropped_count = len(df) # comparing to old value"
   ]
  },
  {
   "cell_type": "code",
   "execution_count": 114,
   "metadata": {},
   "outputs": [
    {
     "output_type": "stream",
     "name": "stdout",
     "text": "Number of blank reviews: 5106\n"
    }
   ],
   "source": [
    "# difference\n",
    "rows_removed = start_count - dropped_count\n",
    "print('Number of blank reviews: {}'.format(rows_removed))"
   ]
  },
  {
   "cell_type": "markdown",
   "metadata": {},
   "source": [
    "## Remove reviews with fewer than 50 words"
   ]
  },
  {
   "cell_type": "code",
   "execution_count": 115,
   "metadata": {},
   "outputs": [],
   "source": [
    "## Reviews with less than 50 words\n",
    "def word_count(row):\n",
    "    num_words = len(row)\n",
    "\n",
    "    return num_words"
   ]
  },
  {
   "cell_type": "code",
   "execution_count": 116,
   "metadata": {},
   "outputs": [],
   "source": [
    "df['review_word_count'] = df['Review'].apply(word_count)"
   ]
  },
  {
   "cell_type": "code",
   "execution_count": 117,
   "metadata": {},
   "outputs": [
    {
     "output_type": "execute_result",
     "data": {
      "text/plain": "count    17513.000000\nmean       496.569234\nstd        433.947984\nmin          1.000000\n25%        256.000000\n50%        456.000000\n75%        660.000000\nmax       4996.000000\nName: review_word_count, dtype: float64"
     },
     "metadata": {},
     "execution_count": 117
    }
   ],
   "source": [
    "df.review_word_count.describe()"
   ]
  },
  {
   "cell_type": "code",
   "execution_count": 118,
   "metadata": {},
   "outputs": [],
   "source": [
    "before_len = len(df)"
   ]
  },
  {
   "cell_type": "code",
   "execution_count": 119,
   "metadata": {},
   "outputs": [],
   "source": [
    "df = df[df['review_word_count'] >= 50]"
   ]
  },
  {
   "cell_type": "code",
   "execution_count": 120,
   "metadata": {},
   "outputs": [],
   "source": [
    "after_len = len(df)"
   ]
  },
  {
   "cell_type": "code",
   "execution_count": 121,
   "metadata": {},
   "outputs": [
    {
     "output_type": "stream",
     "name": "stdout",
     "text": "Number of reviews with fewer than 50 words: 1378\n"
    }
   ],
   "source": [
    "num_removed = before_len - after_len\n",
    "print('Number of reviews with fewer than 50 words: {}'.format(num_removed))"
   ]
  },
  {
   "cell_type": "markdown",
   "metadata": {},
   "source": [
    "## Remove reviews with no ratings"
   ]
  },
  {
   "cell_type": "code",
   "execution_count": 122,
   "metadata": {},
   "outputs": [],
   "source": [
    "start_count = len(df)"
   ]
  },
  {
   "cell_type": "code",
   "execution_count": 123,
   "metadata": {},
   "outputs": [
    {
     "output_type": "execute_result",
     "data": {
      "text/plain": "                      Review_Date Author_Name  \\\n0  0   on 12/09/09 14:11 PM (PST)  regretful    \n1  1   on 06/16/16 16:14 PM (PDT)      David    \n2  2   on 10/27/15 18:28 PM (PDT)        Vic    \n3  3   on 09/22/10 00:00 AM (PDT)     mollyd    \n4  4   on 06/26/18 07:38 AM (PDT)   Steve B.    \n\n                                       Vehicle_Title  \\\n0  2009 Pontiac Torrent GXP GXP 4dr SUV AWD (3.6L...   \n1    2009 Pontiac Torrent SUV 4dr SUV (3.4L 6cyl 5A)   \n2    2009 Pontiac Torrent SUV 4dr SUV (3.4L 6cyl 5A)   \n3  2009 Pontiac Torrent SUV 4dr SUV AWD (3.4L 6cy...   \n4    2006 Pontiac Torrent SUV 4dr SUV (3.4L 6cyl 5A)   \n\n                                        Review_Title  \\\n0                                          regretful   \n1  2009 Pontiac Torrent 3.4L V6 AWDI have had a P...   \n2                           Great, reliable car/SUV.   \n3                          Driving it until it dies.   \n4                                      Excellent SUV   \n\n                                              Review Rating  review_word_count  \n0   GM says 16/24 mileage,more like 12/19,that's ...  3.875                547  \n1   I have had a 2009 Pontiac Torrent AWD 3.4 L V...      4               1422  \n2   Sold it. (But loved it and miss it!)Super dep...      5                837  \n3   Originally owned a 2007, traded in for a 2009...    4.5                697  \n4   Bought new off the showroom floor,now has 325...      5                520  ",
      "text/html": "<div>\n<style scoped>\n    .dataframe tbody tr th:only-of-type {\n        vertical-align: middle;\n    }\n\n    .dataframe tbody tr th {\n        vertical-align: top;\n    }\n\n    .dataframe thead th {\n        text-align: right;\n    }\n</style>\n<table border=\"1\" class=\"dataframe\">\n  <thead>\n    <tr style=\"text-align: right;\">\n      <th></th>\n      <th></th>\n      <th>Review_Date</th>\n      <th>Author_Name</th>\n      <th>Vehicle_Title</th>\n      <th>Review_Title</th>\n      <th>Review</th>\n      <th>Rating</th>\n      <th>review_word_count</th>\n    </tr>\n  </thead>\n  <tbody>\n    <tr>\n      <th>0</th>\n      <td>0</td>\n      <td>on 12/09/09 14:11 PM (PST)</td>\n      <td>regretful</td>\n      <td>2009 Pontiac Torrent GXP GXP 4dr SUV AWD (3.6L...</td>\n      <td>regretful</td>\n      <td>GM says 16/24 mileage,more like 12/19,that's ...</td>\n      <td>3.875</td>\n      <td>547</td>\n    </tr>\n    <tr>\n      <th>1</th>\n      <td>1</td>\n      <td>on 06/16/16 16:14 PM (PDT)</td>\n      <td>David</td>\n      <td>2009 Pontiac Torrent SUV 4dr SUV (3.4L 6cyl 5A)</td>\n      <td>2009 Pontiac Torrent 3.4L V6 AWDI have had a P...</td>\n      <td>I have had a 2009 Pontiac Torrent AWD 3.4 L V...</td>\n      <td>4</td>\n      <td>1422</td>\n    </tr>\n    <tr>\n      <th>2</th>\n      <td>2</td>\n      <td>on 10/27/15 18:28 PM (PDT)</td>\n      <td>Vic</td>\n      <td>2009 Pontiac Torrent SUV 4dr SUV (3.4L 6cyl 5A)</td>\n      <td>Great, reliable car/SUV.</td>\n      <td>Sold it. (But loved it and miss it!)Super dep...</td>\n      <td>5</td>\n      <td>837</td>\n    </tr>\n    <tr>\n      <th>3</th>\n      <td>3</td>\n      <td>on 09/22/10 00:00 AM (PDT)</td>\n      <td>mollyd</td>\n      <td>2009 Pontiac Torrent SUV 4dr SUV AWD (3.4L 6cy...</td>\n      <td>Driving it until it dies.</td>\n      <td>Originally owned a 2007, traded in for a 2009...</td>\n      <td>4.5</td>\n      <td>697</td>\n    </tr>\n    <tr>\n      <th>4</th>\n      <td>4</td>\n      <td>on 06/26/18 07:38 AM (PDT)</td>\n      <td>Steve B.</td>\n      <td>2006 Pontiac Torrent SUV 4dr SUV (3.4L 6cyl 5A)</td>\n      <td>Excellent SUV</td>\n      <td>Bought new off the showroom floor,now has 325...</td>\n      <td>5</td>\n      <td>520</td>\n    </tr>\n  </tbody>\n</table>\n</div>"
     },
     "metadata": {},
     "execution_count": 123
    }
   ],
   "source": [
    "df = df[df.Rating.notnull()]\n",
    "df.head()"
   ]
  },
  {
   "cell_type": "code",
   "execution_count": 124,
   "metadata": {},
   "outputs": [
    {
     "output_type": "stream",
     "name": "stdout",
     "text": "Number of rows with no ratings: 19\n"
    }
   ],
   "source": [
    "end_count = len(df)\n",
    "\n",
    "num_empty_ratings = start_count - end_count\n",
    "print('Number of rows with no ratings: {}'.format(num_empty_ratings))"
   ]
  },
  {
   "cell_type": "markdown",
   "metadata": {},
   "source": [
    "## Split train/test set"
   ]
  },
  {
   "cell_type": "code",
   "execution_count": 125,
   "metadata": {},
   "outputs": [],
   "source": [
    "shuffle_df = df.sample(frac=1).reset_index(drop=True)"
   ]
  },
  {
   "cell_type": "code",
   "execution_count": 126,
   "metadata": {},
   "outputs": [
    {
     "output_type": "execute_result",
     "data": {
      "text/plain": "                         Review_Date      Author_Name  \\\n0   212   on 11/06/02 00:00 AM (PST)            Danb    \n1  3189   on 08/04/16 20:05 PM (PDT)             Rob    \n2    49   on 07/08/18 09:50 AM (PDT)  Pierre Monette    \n3   171   on 04/25/05 03:26 AM (PDT)     monepit2003    \n4  4624   on 11/02/10 00:00 AM (PDT)             Pat    \n\n                                       Vehicle_Title  \\\n0  2003 Pontiac Montana Minivan Fwd 4dr Ext Miniv...   \n1  2016 Mitsubishi Outlander SUV SEL 4dr SUV (2.4...   \n2  2017 Tesla Model 3 Sedan Long Range 4dr Sedan ...   \n3  2003 Mitsubishi Eclipse Hatchback GTS 2dr Hatc...   \n4  2010 Subaru Forester SUV 2.5X Premium 4dr SUV ...   \n\n                                   Review_Title  \\\n0                              2000 Montana Ext   \n1  Four months after buying and still loving it   \n2                               Fantastic value   \n3             Good car, but not a sports car...   \n4              Fun to drive go anywhere vehicle   \n\n                                              Review Rating  review_word_count  \n0   Great running gear, but everything else \\nis ...   3.25                613  \n1   We shopped for a year before deciding on the ...      5               2305  \n2   My Tesla 3 has the extended battery, premium ...      5               1135  \n3   I bought the car new in May '02 and had to re...      4                613  \n4   I agree with everyone about rattles. There is...    4.5                696  ",
      "text/html": "<div>\n<style scoped>\n    .dataframe tbody tr th:only-of-type {\n        vertical-align: middle;\n    }\n\n    .dataframe tbody tr th {\n        vertical-align: top;\n    }\n\n    .dataframe thead th {\n        text-align: right;\n    }\n</style>\n<table border=\"1\" class=\"dataframe\">\n  <thead>\n    <tr style=\"text-align: right;\">\n      <th></th>\n      <th></th>\n      <th>Review_Date</th>\n      <th>Author_Name</th>\n      <th>Vehicle_Title</th>\n      <th>Review_Title</th>\n      <th>Review</th>\n      <th>Rating</th>\n      <th>review_word_count</th>\n    </tr>\n  </thead>\n  <tbody>\n    <tr>\n      <th>0</th>\n      <td>212</td>\n      <td>on 11/06/02 00:00 AM (PST)</td>\n      <td>Danb</td>\n      <td>2003 Pontiac Montana Minivan Fwd 4dr Ext Miniv...</td>\n      <td>2000 Montana Ext</td>\n      <td>Great running gear, but everything else \\nis ...</td>\n      <td>3.25</td>\n      <td>613</td>\n    </tr>\n    <tr>\n      <th>1</th>\n      <td>3189</td>\n      <td>on 08/04/16 20:05 PM (PDT)</td>\n      <td>Rob</td>\n      <td>2016 Mitsubishi Outlander SUV SEL 4dr SUV (2.4...</td>\n      <td>Four months after buying and still loving it</td>\n      <td>We shopped for a year before deciding on the ...</td>\n      <td>5</td>\n      <td>2305</td>\n    </tr>\n    <tr>\n      <th>2</th>\n      <td>49</td>\n      <td>on 07/08/18 09:50 AM (PDT)</td>\n      <td>Pierre Monette</td>\n      <td>2017 Tesla Model 3 Sedan Long Range 4dr Sedan ...</td>\n      <td>Fantastic value</td>\n      <td>My Tesla 3 has the extended battery, premium ...</td>\n      <td>5</td>\n      <td>1135</td>\n    </tr>\n    <tr>\n      <th>3</th>\n      <td>171</td>\n      <td>on 04/25/05 03:26 AM (PDT)</td>\n      <td>monepit2003</td>\n      <td>2003 Mitsubishi Eclipse Hatchback GTS 2dr Hatc...</td>\n      <td>Good car, but not a sports car...</td>\n      <td>I bought the car new in May '02 and had to re...</td>\n      <td>4</td>\n      <td>613</td>\n    </tr>\n    <tr>\n      <th>4</th>\n      <td>4624</td>\n      <td>on 11/02/10 00:00 AM (PDT)</td>\n      <td>Pat</td>\n      <td>2010 Subaru Forester SUV 2.5X Premium 4dr SUV ...</td>\n      <td>Fun to drive go anywhere vehicle</td>\n      <td>I agree with everyone about rattles. There is...</td>\n      <td>4.5</td>\n      <td>696</td>\n    </tr>\n  </tbody>\n</table>\n</div>"
     },
     "metadata": {},
     "execution_count": 126
    }
   ],
   "source": [
    "shuffle_df.head()"
   ]
  },
  {
   "cell_type": "code",
   "execution_count": 127,
   "metadata": {},
   "outputs": [
    {
     "output_type": "execute_result",
     "data": {
      "text/plain": "4834"
     },
     "metadata": {},
     "execution_count": 127
    }
   ],
   "source": [
    "int(len(df) * 0.30)"
   ]
  },
  {
   "cell_type": "code",
   "execution_count": 128,
   "metadata": {},
   "outputs": [
    {
     "output_type": "execute_result",
     "data": {
      "text/plain": "11281"
     },
     "metadata": {},
     "execution_count": 128
    }
   ],
   "source": [
    "int(len(df) * 0.70)"
   ]
  },
  {
   "cell_type": "code",
   "execution_count": 129,
   "metadata": {},
   "outputs": [
    {
     "output_type": "execute_result",
     "data": {
      "text/plain": "16115"
     },
     "metadata": {},
     "execution_count": 129
    }
   ],
   "source": [
    "int(len(df) * 0.30) + int(len(df) * 0.70)"
   ]
  },
  {
   "cell_type": "code",
   "execution_count": 130,
   "metadata": {},
   "outputs": [
    {
     "output_type": "execute_result",
     "data": {
      "text/plain": "11281"
     },
     "metadata": {},
     "execution_count": 130
    }
   ],
   "source": [
    "len(shuffle_df.iloc[:int(len(df) * 0.70)])"
   ]
  },
  {
   "cell_type": "code",
   "execution_count": 131,
   "metadata": {},
   "outputs": [
    {
     "output_type": "execute_result",
     "data": {
      "text/plain": "4835"
     },
     "metadata": {},
     "execution_count": 131
    }
   ],
   "source": [
    "len(shuffle_df.iloc[int(len(df) * 0.70):])"
   ]
  },
  {
   "cell_type": "code",
   "execution_count": 132,
   "metadata": {},
   "outputs": [],
   "source": [
    "train_df = shuffle_df.iloc[:int(len(df) * 0.70)]\n",
    "test_df = shuffle_df.iloc[int(len(df) * 0.70):]"
   ]
  },
  {
   "cell_type": "markdown",
   "metadata": {},
   "source": [
    "# Export dataframes"
   ]
  },
  {
   "cell_type": "code",
   "execution_count": 133,
   "metadata": {},
   "outputs": [],
   "source": [
    "# train_df.to_pickle('train_df.pkl')\n",
    "# test_df.to_pickle('test_df.pkl')"
   ]
  },
  {
   "cell_type": "code",
   "execution_count": 134,
   "metadata": {},
   "outputs": [],
   "source": [
    "df.to_pickle('processed_data.pkl')"
   ]
  }
 ],
 "metadata": {
  "language_info": {
   "codemirror_mode": {
    "name": "ipython",
    "version": 3
   },
   "file_extension": ".py",
   "mimetype": "text/x-python",
   "name": "python",
   "nbconvert_exporter": "python",
   "pygments_lexer": "ipython3",
   "version": "3.8.2-final"
  },
  "orig_nbformat": 2,
  "kernelspec": {
   "name": "python38264bit0c31753cb4904f759510df829f98c315",
   "display_name": "Python 3.8.2 64-bit"
  }
 },
 "nbformat": 4,
 "nbformat_minor": 2
}