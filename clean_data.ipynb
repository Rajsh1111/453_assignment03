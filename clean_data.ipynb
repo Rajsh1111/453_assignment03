{
 "cells": [
  {
   "cell_type": "markdown",
   "metadata": {},
   "source": [
    "# Setup"
   ]
  },
  {
   "cell_type": "markdown",
   "metadata": {},
   "source": [
    "## Import and check packages"
   ]
  },
  {
   "cell_type": "code",
   "execution_count": 1,
   "metadata": {},
   "outputs": [],
   "source": [
    "import sys\n",
    "import json\n",
    "import pandas as pd\n",
    "import numpy as np\n",
    "import os\n",
    "import csv\n",
    "import re, string"
   ]
  },
  {
   "cell_type": "code",
   "execution_count": 2,
   "metadata": {},
   "outputs": [
    {
     "output_type": "stream",
     "name": "stdout",
     "text": "Version check:\nPython: 3.8.2 (default, Apr 27 2020, 15:53:34) \n[GCC 9.3.0]\npandas: 1.0.3\nregex: 2.2.1\n"
    }
   ],
   "source": [
    "print('Version check:')\n",
    "print('Python: {}'.format(sys.version))\n",
    "print('pandas: {}'.format(pd.__version__))\n",
    "print('regex: {}'.format(re.__version__))"
   ]
  },
  {
   "cell_type": "markdown",
   "metadata": {},
   "source": [
    "## Functions"
   ]
  },
  {
   "cell_type": "code",
   "execution_count": 3,
   "metadata": {},
   "outputs": [],
   "source": [
    "def parse_file(path):\n",
    "    data = list()\n",
    "    with open(path, 'r') as f:\n",
    "        csv_reader = csv.reader(f, delimiter=',')\n",
    "        for row in csv_reader:\n",
    "            data.append(row)\n",
    "\n",
    "    return data"
   ]
  },
  {
   "cell_type": "markdown",
   "metadata": {},
   "source": [
    "# Import and prepare data"
   ]
  },
  {
   "cell_type": "code",
   "execution_count": 4,
   "metadata": {},
   "outputs": [
    {
     "output_type": "execute_result",
     "data": {
      "text/plain": "54"
     },
     "metadata": {},
     "execution_count": 4
    }
   ],
   "source": [
    "path = '/home/specc/Documents/school_files/453_nlp/assignment03_files/data_files/'\n",
    "#path = 'C:\\\\Users\\\\bxiao\\Documents\\\\school_files\\\\453_nlp\\\\assignments\\\\453_assignment03\\\\data_files\\\\'\n",
    "os.chdir(path) # set path to data files\n",
    "len(os.listdir()) # check how many files are present"
   ]
  },
  {
   "cell_type": "code",
   "execution_count": 5,
   "metadata": {},
   "outputs": [],
   "source": [
    "df = pd.DataFrame()\n",
    "for item in os.listdir():\n",
    "    if item.endswith('.csv'):\n",
    "        try:\n",
    "            data = parse_file(item)\n",
    "            temp_df = pd.DataFrame(data[1:], columns=data[0])\n",
    "            df = pd.concat([df, temp_df], ignore_index=0)\n",
    "        except:\n",
    "            continue"
   ]
  },
  {
   "cell_type": "code",
   "execution_count": 6,
   "metadata": {},
   "outputs": [
    {
     "output_type": "execute_result",
     "data": {
      "text/plain": "                      Review_Date Author_Name  \\\n0  0   on 12/09/09 14:11 PM (PST)  regretful    \n1  1   on 06/16/16 16:14 PM (PDT)      David    \n2  2   on 10/27/15 18:28 PM (PDT)        Vic    \n3  3   on 09/22/10 00:00 AM (PDT)     mollyd    \n4  4   on 06/26/18 07:38 AM (PDT)   Steve B.    \n\n                                       Vehicle_Title  \\\n0  2009 Pontiac Torrent GXP GXP 4dr SUV AWD (3.6L...   \n1    2009 Pontiac Torrent SUV 4dr SUV (3.4L 6cyl 5A)   \n2    2009 Pontiac Torrent SUV 4dr SUV (3.4L 6cyl 5A)   \n3  2009 Pontiac Torrent SUV 4dr SUV AWD (3.4L 6cy...   \n4    2006 Pontiac Torrent SUV 4dr SUV (3.4L 6cyl 5A)   \n\n                                        Review_Title  \\\n0                                          regretful   \n1  2009 Pontiac Torrent 3.4L V6 AWDI have had a P...   \n2                           Great, reliable car/SUV.   \n3                          Driving it until it dies.   \n4                                      Excellent SUV   \n\n                                              Review Rating  \n0   GM says 16/24 mileage,more like 12/19,that's ...  3.875  \n1   I have had a 2009 Pontiac Torrent AWD 3.4 L V...      4  \n2   Sold it. (But loved it and miss it!)Super dep...      5  \n3   Originally owned a 2007, traded in for a 2009...    4.5  \n4   Bought new off the showroom floor,now has 325...      5  ",
      "text/html": "<div>\n<style scoped>\n    .dataframe tbody tr th:only-of-type {\n        vertical-align: middle;\n    }\n\n    .dataframe tbody tr th {\n        vertical-align: top;\n    }\n\n    .dataframe thead th {\n        text-align: right;\n    }\n</style>\n<table border=\"1\" class=\"dataframe\">\n  <thead>\n    <tr style=\"text-align: right;\">\n      <th></th>\n      <th></th>\n      <th>Review_Date</th>\n      <th>Author_Name</th>\n      <th>Vehicle_Title</th>\n      <th>Review_Title</th>\n      <th>Review</th>\n      <th>Rating</th>\n    </tr>\n  </thead>\n  <tbody>\n    <tr>\n      <th>0</th>\n      <td>0</td>\n      <td>on 12/09/09 14:11 PM (PST)</td>\n      <td>regretful</td>\n      <td>2009 Pontiac Torrent GXP GXP 4dr SUV AWD (3.6L...</td>\n      <td>regretful</td>\n      <td>GM says 16/24 mileage,more like 12/19,that's ...</td>\n      <td>3.875</td>\n    </tr>\n    <tr>\n      <th>1</th>\n      <td>1</td>\n      <td>on 06/16/16 16:14 PM (PDT)</td>\n      <td>David</td>\n      <td>2009 Pontiac Torrent SUV 4dr SUV (3.4L 6cyl 5A)</td>\n      <td>2009 Pontiac Torrent 3.4L V6 AWDI have had a P...</td>\n      <td>I have had a 2009 Pontiac Torrent AWD 3.4 L V...</td>\n      <td>4</td>\n    </tr>\n    <tr>\n      <th>2</th>\n      <td>2</td>\n      <td>on 10/27/15 18:28 PM (PDT)</td>\n      <td>Vic</td>\n      <td>2009 Pontiac Torrent SUV 4dr SUV (3.4L 6cyl 5A)</td>\n      <td>Great, reliable car/SUV.</td>\n      <td>Sold it. (But loved it and miss it!)Super dep...</td>\n      <td>5</td>\n    </tr>\n    <tr>\n      <th>3</th>\n      <td>3</td>\n      <td>on 09/22/10 00:00 AM (PDT)</td>\n      <td>mollyd</td>\n      <td>2009 Pontiac Torrent SUV 4dr SUV AWD (3.4L 6cy...</td>\n      <td>Driving it until it dies.</td>\n      <td>Originally owned a 2007, traded in for a 2009...</td>\n      <td>4.5</td>\n    </tr>\n    <tr>\n      <th>4</th>\n      <td>4</td>\n      <td>on 06/26/18 07:38 AM (PDT)</td>\n      <td>Steve B.</td>\n      <td>2006 Pontiac Torrent SUV 4dr SUV (3.4L 6cyl 5A)</td>\n      <td>Excellent SUV</td>\n      <td>Bought new off the showroom floor,now has 325...</td>\n      <td>5</td>\n    </tr>\n  </tbody>\n</table>\n</div>"
     },
     "metadata": {},
     "execution_count": 6
    }
   ],
   "source": [
    "df.head()"
   ]
  },
  {
   "cell_type": "code",
   "execution_count": 7,
   "metadata": {},
   "outputs": [
    {
     "output_type": "execute_result",
     "data": {
      "text/plain": "                          Review_Date    Author_Name  \\\n390  390   on 03/28/13 16:07 PM (PDT)  perrusquiald    \n391  391   on 01/27/13 02:46 AM (PST)       sruczko    \n392  392   on 12/08/12 20:04 PM (PST)      rreichar    \n393  393   on 09/07/16 09:22 AM (PDT)          Rick    \n394  394   on 09/05/16 17:10 PM (PDT)          Ruby    \n\n                                         Vehicle_Title  \\\n390  2013 FIAT 500 Abarth Abarth 2dr Hatchback (1.4...   \n391  2013 FIAT 500 Abarth Abarth 2dr Hatchback (1.4...   \n392  2013 FIAT 500 Abarth Abarth 2dr Hatchback (1.4...   \n393  2013 FIAT 500 C Abarth C Abarth 2dr Convertibl...   \n394  2013 FIAT 500 C Abarth C Abarth 2dr Convertibl...   \n\n                                          Review_Title  \\\n390                                      Best car ever   \n391                                 From Pop to Abarth   \n392                                Hardcore Hatchback!   \n393  Awesome car that will surprise & make you smil...   \n394              2013 Abarth 500 C is a great fun car!   \n\n                                                Review Rating  \n390   I have before a 500 sport for 2 years and 3 w...      5  \n391   My 2012 Pop was a wonderful car and I enjoyed...  4.875  \n392   Fiat was a sponsor of the US Grand Prix in Au...  4.375  \n393   I test drove many cars looking for a cost eff...      5  \n394   Some of these reviews are just ridiculous, co...      4  ",
      "text/html": "<div>\n<style scoped>\n    .dataframe tbody tr th:only-of-type {\n        vertical-align: middle;\n    }\n\n    .dataframe tbody tr th {\n        vertical-align: top;\n    }\n\n    .dataframe thead th {\n        text-align: right;\n    }\n</style>\n<table border=\"1\" class=\"dataframe\">\n  <thead>\n    <tr style=\"text-align: right;\">\n      <th></th>\n      <th></th>\n      <th>Review_Date</th>\n      <th>Author_Name</th>\n      <th>Vehicle_Title</th>\n      <th>Review_Title</th>\n      <th>Review</th>\n      <th>Rating</th>\n    </tr>\n  </thead>\n  <tbody>\n    <tr>\n      <th>390</th>\n      <td>390</td>\n      <td>on 03/28/13 16:07 PM (PDT)</td>\n      <td>perrusquiald</td>\n      <td>2013 FIAT 500 Abarth Abarth 2dr Hatchback (1.4...</td>\n      <td>Best car ever</td>\n      <td>I have before a 500 sport for 2 years and 3 w...</td>\n      <td>5</td>\n    </tr>\n    <tr>\n      <th>391</th>\n      <td>391</td>\n      <td>on 01/27/13 02:46 AM (PST)</td>\n      <td>sruczko</td>\n      <td>2013 FIAT 500 Abarth Abarth 2dr Hatchback (1.4...</td>\n      <td>From Pop to Abarth</td>\n      <td>My 2012 Pop was a wonderful car and I enjoyed...</td>\n      <td>4.875</td>\n    </tr>\n    <tr>\n      <th>392</th>\n      <td>392</td>\n      <td>on 12/08/12 20:04 PM (PST)</td>\n      <td>rreichar</td>\n      <td>2013 FIAT 500 Abarth Abarth 2dr Hatchback (1.4...</td>\n      <td>Hardcore Hatchback!</td>\n      <td>Fiat was a sponsor of the US Grand Prix in Au...</td>\n      <td>4.375</td>\n    </tr>\n    <tr>\n      <th>393</th>\n      <td>393</td>\n      <td>on 09/07/16 09:22 AM (PDT)</td>\n      <td>Rick</td>\n      <td>2013 FIAT 500 C Abarth C Abarth 2dr Convertibl...</td>\n      <td>Awesome car that will surprise &amp; make you smil...</td>\n      <td>I test drove many cars looking for a cost eff...</td>\n      <td>5</td>\n    </tr>\n    <tr>\n      <th>394</th>\n      <td>394</td>\n      <td>on 09/05/16 17:10 PM (PDT)</td>\n      <td>Ruby</td>\n      <td>2013 FIAT 500 C Abarth C Abarth 2dr Convertibl...</td>\n      <td>2013 Abarth 500 C is a great fun car!</td>\n      <td>Some of these reviews are just ridiculous, co...</td>\n      <td>4</td>\n    </tr>\n  </tbody>\n</table>\n</div>"
     },
     "metadata": {},
     "execution_count": 7
    }
   ],
   "source": [
    "df.tail()"
   ]
  },
  {
   "cell_type": "markdown",
   "metadata": {},
   "source": [
    "## Drop rows with no text review"
   ]
  },
  {
   "cell_type": "code",
   "execution_count": 8,
   "metadata": {},
   "outputs": [
    {
     "output_type": "execute_result",
     "data": {
      "text/plain": "284715"
     },
     "metadata": {},
     "execution_count": 8
    }
   ],
   "source": [
    "start_count = len(df)\n",
    "start_count"
   ]
  },
  {
   "cell_type": "code",
   "execution_count": 9,
   "metadata": {},
   "outputs": [
    {
     "output_type": "execute_result",
     "data": {
      "text/plain": "                                                        Review_Date  \\\n116   Car washes and heavy rain fill this compartmen...         3.5   \n193                    Conkle pontiac.   Problems with         None   \n194                     interior features from day 1.          None   \n195                      Winshield leaked damaging the         None   \n196                  headliner.  In the first month of         None   \n...                                                 ...         ...   \n4058            constantly breaking - replaced - lasts         None   \n4059                                        a month....        None   \n4060            constant problem fuel cap not releasing       3.125   \n4068  the coils are now splitting after 76K miles re...        None   \n4069                                                          3.375   \n\n     Author_Name Vehicle_Title Review_Title Review Rating  \n116         None          None         None   None   None  \n193         None          None         None   None   None  \n194         None          None         None   None   None  \n195         None          None         None   None   None  \n196         None          None         None   None   None  \n...          ...           ...          ...    ...    ...  \n4058        None          None         None   None   None  \n4059        None          None         None   None   None  \n4060        None          None         None   None   None  \n4068        None          None         None   None   None  \n4069        None          None         None   None   None  \n\n[57784 rows x 7 columns]",
      "text/html": "<div>\n<style scoped>\n    .dataframe tbody tr th:only-of-type {\n        vertical-align: middle;\n    }\n\n    .dataframe tbody tr th {\n        vertical-align: top;\n    }\n\n    .dataframe thead th {\n        text-align: right;\n    }\n</style>\n<table border=\"1\" class=\"dataframe\">\n  <thead>\n    <tr style=\"text-align: right;\">\n      <th></th>\n      <th></th>\n      <th>Review_Date</th>\n      <th>Author_Name</th>\n      <th>Vehicle_Title</th>\n      <th>Review_Title</th>\n      <th>Review</th>\n      <th>Rating</th>\n    </tr>\n  </thead>\n  <tbody>\n    <tr>\n      <th>116</th>\n      <td>Car washes and heavy rain fill this compartmen...</td>\n      <td>3.5</td>\n      <td>None</td>\n      <td>None</td>\n      <td>None</td>\n      <td>None</td>\n      <td>None</td>\n    </tr>\n    <tr>\n      <th>193</th>\n      <td>Conkle pontiac.   Problems with</td>\n      <td>None</td>\n      <td>None</td>\n      <td>None</td>\n      <td>None</td>\n      <td>None</td>\n      <td>None</td>\n    </tr>\n    <tr>\n      <th>194</th>\n      <td>interior features from day 1.</td>\n      <td>None</td>\n      <td>None</td>\n      <td>None</td>\n      <td>None</td>\n      <td>None</td>\n      <td>None</td>\n    </tr>\n    <tr>\n      <th>195</th>\n      <td>Winshield leaked damaging the</td>\n      <td>None</td>\n      <td>None</td>\n      <td>None</td>\n      <td>None</td>\n      <td>None</td>\n      <td>None</td>\n    </tr>\n    <tr>\n      <th>196</th>\n      <td>headliner.  In the first month of</td>\n      <td>None</td>\n      <td>None</td>\n      <td>None</td>\n      <td>None</td>\n      <td>None</td>\n      <td>None</td>\n    </tr>\n    <tr>\n      <th>...</th>\n      <td>...</td>\n      <td>...</td>\n      <td>...</td>\n      <td>...</td>\n      <td>...</td>\n      <td>...</td>\n      <td>...</td>\n    </tr>\n    <tr>\n      <th>4058</th>\n      <td>constantly breaking - replaced - lasts</td>\n      <td>None</td>\n      <td>None</td>\n      <td>None</td>\n      <td>None</td>\n      <td>None</td>\n      <td>None</td>\n    </tr>\n    <tr>\n      <th>4059</th>\n      <td>a month....</td>\n      <td>None</td>\n      <td>None</td>\n      <td>None</td>\n      <td>None</td>\n      <td>None</td>\n      <td>None</td>\n    </tr>\n    <tr>\n      <th>4060</th>\n      <td>constant problem fuel cap not releasing</td>\n      <td>3.125</td>\n      <td>None</td>\n      <td>None</td>\n      <td>None</td>\n      <td>None</td>\n      <td>None</td>\n    </tr>\n    <tr>\n      <th>4068</th>\n      <td>the coils are now splitting after 76K miles re...</td>\n      <td>None</td>\n      <td>None</td>\n      <td>None</td>\n      <td>None</td>\n      <td>None</td>\n      <td>None</td>\n    </tr>\n    <tr>\n      <th>4069</th>\n      <td></td>\n      <td>3.375</td>\n      <td>None</td>\n      <td>None</td>\n      <td>None</td>\n      <td>None</td>\n      <td>None</td>\n    </tr>\n  </tbody>\n</table>\n<p>57784 rows × 7 columns</p>\n</div>"
     },
     "metadata": {},
     "execution_count": 9
    }
   ],
   "source": [
    "df[df['Review'].isnull()]"
   ]
  },
  {
   "cell_type": "code",
   "execution_count": 10,
   "metadata": {},
   "outputs": [
    {
     "output_type": "execute_result",
     "data": {
      "text/plain": "                 work on it.  My audio controls and all \nReview_Date                                         None\nAuthor_Name                                         None\nVehicle_Title                                       None\nReview_Title                                        None\nReview                                              None\nRating                                              None\nName: 200, dtype: object"
     },
     "metadata": {},
     "execution_count": 10
    }
   ],
   "source": [
    "df.iloc[200]"
   ]
  },
  {
   "cell_type": "code",
   "execution_count": 11,
   "metadata": {},
   "outputs": [
    {
     "output_type": "execute_result",
     "data": {
      "text/plain": "                 until the gas cap was replaced; \nReview_Date                                  None\nAuthor_Name                                  None\nVehicle_Title                                None\nReview_Title                                 None\nReview                                       None\nRating                                       None\nName: 500, dtype: object"
     },
     "metadata": {},
     "execution_count": 11
    }
   ],
   "source": [
    "df.iloc[500]"
   ]
  },
  {
   "cell_type": "code",
   "execution_count": 12,
   "metadata": {},
   "outputs": [
    {
     "output_type": "execute_result",
     "data": {
      "text/plain": "Index(['', 'Review_Date', 'Author_Name', 'Vehicle_Title', 'Review_Title',\n       'Review', 'Rating'],\n      dtype='object')"
     },
     "metadata": {},
     "execution_count": 12
    }
   ],
   "source": [
    "df.columns"
   ]
  },
  {
   "cell_type": "code",
   "execution_count": 13,
   "metadata": {},
   "outputs": [],
   "source": [
    "df = df[df['Review'].notnull()] # removing odd data points"
   ]
  },
  {
   "cell_type": "code",
   "execution_count": 14,
   "metadata": {},
   "outputs": [],
   "source": [
    "dropped_count = len(df) # comparing to old value"
   ]
  },
  {
   "cell_type": "code",
   "execution_count": 15,
   "metadata": {},
   "outputs": [
    {
     "output_type": "stream",
     "name": "stdout",
     "text": "Number of blank reviews: 57784\n"
    }
   ],
   "source": [
    "# difference\n",
    "rows_removed = start_count - dropped_count\n",
    "print('Number of blank reviews: {}'.format(rows_removed))"
   ]
  },
  {
   "cell_type": "markdown",
   "metadata": {},
   "source": [
    "## Remove reviews with fewer than 50 words"
   ]
  },
  {
   "cell_type": "code",
   "execution_count": 16,
   "metadata": {},
   "outputs": [],
   "source": [
    "## Reviews with less than 50 words\n",
    "def word_count(row):\n",
    "    num_words = len(row)\n",
    "\n",
    "    return num_words"
   ]
  },
  {
   "cell_type": "code",
   "execution_count": 17,
   "metadata": {},
   "outputs": [],
   "source": [
    "df['review_word_count'] = df['Review'].apply(word_count)"
   ]
  },
  {
   "cell_type": "code",
   "execution_count": 18,
   "metadata": {},
   "outputs": [
    {
     "output_type": "execute_result",
     "data": {
      "text/plain": "count    226931.000000\nmean        494.771631\nstd         433.067039\nmin           1.000000\n25%         252.000000\n50%         449.000000\n75%         661.000000\nmax        8319.000000\nName: review_word_count, dtype: float64"
     },
     "metadata": {},
     "execution_count": 18
    }
   ],
   "source": [
    "df.review_word_count.describe()"
   ]
  },
  {
   "cell_type": "code",
   "execution_count": 19,
   "metadata": {},
   "outputs": [],
   "source": [
    "before_len = len(df)"
   ]
  },
  {
   "cell_type": "code",
   "execution_count": 20,
   "metadata": {},
   "outputs": [],
   "source": [
    "df = df[df['review_word_count'] >= 50]"
   ]
  },
  {
   "cell_type": "code",
   "execution_count": 21,
   "metadata": {},
   "outputs": [],
   "source": [
    "after_len = len(df)"
   ]
  },
  {
   "cell_type": "code",
   "execution_count": 22,
   "metadata": {},
   "outputs": [
    {
     "output_type": "stream",
     "name": "stdout",
     "text": "Number of reviews with fewer than 50 words: 17188\n"
    }
   ],
   "source": [
    "num_removed = before_len - after_len\n",
    "print('Number of reviews with fewer than 50 words: {}'.format(num_removed))"
   ]
  },
  {
   "cell_type": "markdown",
   "metadata": {},
   "source": [
    "## Remove reviews with no ratings"
   ]
  },
  {
   "cell_type": "code",
   "execution_count": 23,
   "metadata": {},
   "outputs": [],
   "source": [
    "start_count = len(df)"
   ]
  },
  {
   "cell_type": "code",
   "execution_count": 24,
   "metadata": {},
   "outputs": [
    {
     "output_type": "execute_result",
     "data": {
      "text/plain": "                      Review_Date Author_Name  \\\n0  0   on 12/09/09 14:11 PM (PST)  regretful    \n1  1   on 06/16/16 16:14 PM (PDT)      David    \n2  2   on 10/27/15 18:28 PM (PDT)        Vic    \n3  3   on 09/22/10 00:00 AM (PDT)     mollyd    \n4  4   on 06/26/18 07:38 AM (PDT)   Steve B.    \n\n                                       Vehicle_Title  \\\n0  2009 Pontiac Torrent GXP GXP 4dr SUV AWD (3.6L...   \n1    2009 Pontiac Torrent SUV 4dr SUV (3.4L 6cyl 5A)   \n2    2009 Pontiac Torrent SUV 4dr SUV (3.4L 6cyl 5A)   \n3  2009 Pontiac Torrent SUV 4dr SUV AWD (3.4L 6cy...   \n4    2006 Pontiac Torrent SUV 4dr SUV (3.4L 6cyl 5A)   \n\n                                        Review_Title  \\\n0                                          regretful   \n1  2009 Pontiac Torrent 3.4L V6 AWDI have had a P...   \n2                           Great, reliable car/SUV.   \n3                          Driving it until it dies.   \n4                                      Excellent SUV   \n\n                                              Review Rating  review_word_count  \n0   GM says 16/24 mileage,more like 12/19,that's ...  3.875                547  \n1   I have had a 2009 Pontiac Torrent AWD 3.4 L V...      4               1422  \n2   Sold it. (But loved it and miss it!)Super dep...      5                837  \n3   Originally owned a 2007, traded in for a 2009...    4.5                697  \n4   Bought new off the showroom floor,now has 325...      5                520  ",
      "text/html": "<div>\n<style scoped>\n    .dataframe tbody tr th:only-of-type {\n        vertical-align: middle;\n    }\n\n    .dataframe tbody tr th {\n        vertical-align: top;\n    }\n\n    .dataframe thead th {\n        text-align: right;\n    }\n</style>\n<table border=\"1\" class=\"dataframe\">\n  <thead>\n    <tr style=\"text-align: right;\">\n      <th></th>\n      <th></th>\n      <th>Review_Date</th>\n      <th>Author_Name</th>\n      <th>Vehicle_Title</th>\n      <th>Review_Title</th>\n      <th>Review</th>\n      <th>Rating</th>\n      <th>review_word_count</th>\n    </tr>\n  </thead>\n  <tbody>\n    <tr>\n      <th>0</th>\n      <td>0</td>\n      <td>on 12/09/09 14:11 PM (PST)</td>\n      <td>regretful</td>\n      <td>2009 Pontiac Torrent GXP GXP 4dr SUV AWD (3.6L...</td>\n      <td>regretful</td>\n      <td>GM says 16/24 mileage,more like 12/19,that's ...</td>\n      <td>3.875</td>\n      <td>547</td>\n    </tr>\n    <tr>\n      <th>1</th>\n      <td>1</td>\n      <td>on 06/16/16 16:14 PM (PDT)</td>\n      <td>David</td>\n      <td>2009 Pontiac Torrent SUV 4dr SUV (3.4L 6cyl 5A)</td>\n      <td>2009 Pontiac Torrent 3.4L V6 AWDI have had a P...</td>\n      <td>I have had a 2009 Pontiac Torrent AWD 3.4 L V...</td>\n      <td>4</td>\n      <td>1422</td>\n    </tr>\n    <tr>\n      <th>2</th>\n      <td>2</td>\n      <td>on 10/27/15 18:28 PM (PDT)</td>\n      <td>Vic</td>\n      <td>2009 Pontiac Torrent SUV 4dr SUV (3.4L 6cyl 5A)</td>\n      <td>Great, reliable car/SUV.</td>\n      <td>Sold it. (But loved it and miss it!)Super dep...</td>\n      <td>5</td>\n      <td>837</td>\n    </tr>\n    <tr>\n      <th>3</th>\n      <td>3</td>\n      <td>on 09/22/10 00:00 AM (PDT)</td>\n      <td>mollyd</td>\n      <td>2009 Pontiac Torrent SUV 4dr SUV AWD (3.4L 6cy...</td>\n      <td>Driving it until it dies.</td>\n      <td>Originally owned a 2007, traded in for a 2009...</td>\n      <td>4.5</td>\n      <td>697</td>\n    </tr>\n    <tr>\n      <th>4</th>\n      <td>4</td>\n      <td>on 06/26/18 07:38 AM (PDT)</td>\n      <td>Steve B.</td>\n      <td>2006 Pontiac Torrent SUV 4dr SUV (3.4L 6cyl 5A)</td>\n      <td>Excellent SUV</td>\n      <td>Bought new off the showroom floor,now has 325...</td>\n      <td>5</td>\n      <td>520</td>\n    </tr>\n  </tbody>\n</table>\n</div>"
     },
     "metadata": {},
     "execution_count": 24
    }
   ],
   "source": [
    "df = df[df.Rating.notnull()]\n",
    "df.head()"
   ]
  },
  {
   "cell_type": "code",
   "execution_count": 25,
   "metadata": {},
   "outputs": [
    {
     "output_type": "stream",
     "name": "stdout",
     "text": "Number of rows with no ratings: 243\n"
    }
   ],
   "source": [
    "end_count = len(df)\n",
    "\n",
    "num_empty_ratings = start_count - end_count\n",
    "print('Number of rows with no ratings: {}'.format(num_empty_ratings))"
   ]
  },
  {
   "cell_type": "markdown",
   "metadata": {},
   "source": [
    "## Split train/test set"
   ]
  },
  {
   "cell_type": "code",
   "execution_count": 26,
   "metadata": {},
   "outputs": [],
   "source": [
    "shuffle_df = df.sample(frac=1).reset_index(drop=True)"
   ]
  },
  {
   "cell_type": "code",
   "execution_count": 27,
   "metadata": {},
   "outputs": [
    {
     "output_type": "execute_result",
     "data": {
      "text/plain": "                          Review_Date Author_Name  \\\n0  12070   on 01/25/07 17:40 PM (PST)       Kari    \n1   6521   on 01/06/11 07:44 AM (PST)   dagrabe1    \n2    932   on 05/18/03 00:00 AM (PDT)   BRJoll99    \n3     24   on 12/05/12 11:11 AM (PST)    jusncsu    \n4   5209   on 08/28/03 00:00 AM (PDT)     roff_5    \n\n                                       Vehicle_Title  \\\n0  2004 Toyota Corolla Sedan LE 4dr Sedan (1.8L 4...   \n1  2010 Hyundai Tucson SUV Limited 4dr SUV (2.4L ...   \n2    2002 BMW X5 SUV 3.0i AWD 4dr SUV (3.0L 6cyl 5M)   \n3      2006 HUMMER H3 SUV 4dr SUV 4WD (3.5L 5cyl 5M)   \n4  2003 Toyota Camry Solara Coupe SLE V6 2dr Coup...   \n\n                               Review_Title  \\\n0                             Kari's review   \n1                               A mixed bag   \n2              Good overall after 1.5 years   \n3  2006 Adventure Package - Love this Car!!   \n4           You will never buy another car!   \n\n                                              Review Rating  review_word_count  \n0   My previous car was a 2001 Chevy Blazer that ...  4.625                701  \n1   We've been driving this vehicle now for 9 mon...  3.875                660  \n2   I've driven my 3.0 for 21,000 miles and \\nhav...      4                492  \n3   I've owned it for a few years now (did a grea...  4.875                606  \n4   I finally got the one I really wanted \\nfor a...  4.875                555  ",
      "text/html": "<div>\n<style scoped>\n    .dataframe tbody tr th:only-of-type {\n        vertical-align: middle;\n    }\n\n    .dataframe tbody tr th {\n        vertical-align: top;\n    }\n\n    .dataframe thead th {\n        text-align: right;\n    }\n</style>\n<table border=\"1\" class=\"dataframe\">\n  <thead>\n    <tr style=\"text-align: right;\">\n      <th></th>\n      <th></th>\n      <th>Review_Date</th>\n      <th>Author_Name</th>\n      <th>Vehicle_Title</th>\n      <th>Review_Title</th>\n      <th>Review</th>\n      <th>Rating</th>\n      <th>review_word_count</th>\n    </tr>\n  </thead>\n  <tbody>\n    <tr>\n      <th>0</th>\n      <td>12070</td>\n      <td>on 01/25/07 17:40 PM (PST)</td>\n      <td>Kari</td>\n      <td>2004 Toyota Corolla Sedan LE 4dr Sedan (1.8L 4...</td>\n      <td>Kari's review</td>\n      <td>My previous car was a 2001 Chevy Blazer that ...</td>\n      <td>4.625</td>\n      <td>701</td>\n    </tr>\n    <tr>\n      <th>1</th>\n      <td>6521</td>\n      <td>on 01/06/11 07:44 AM (PST)</td>\n      <td>dagrabe1</td>\n      <td>2010 Hyundai Tucson SUV Limited 4dr SUV (2.4L ...</td>\n      <td>A mixed bag</td>\n      <td>We've been driving this vehicle now for 9 mon...</td>\n      <td>3.875</td>\n      <td>660</td>\n    </tr>\n    <tr>\n      <th>2</th>\n      <td>932</td>\n      <td>on 05/18/03 00:00 AM (PDT)</td>\n      <td>BRJoll99</td>\n      <td>2002 BMW X5 SUV 3.0i AWD 4dr SUV (3.0L 6cyl 5M)</td>\n      <td>Good overall after 1.5 years</td>\n      <td>I've driven my 3.0 for 21,000 miles and \\nhav...</td>\n      <td>4</td>\n      <td>492</td>\n    </tr>\n    <tr>\n      <th>3</th>\n      <td>24</td>\n      <td>on 12/05/12 11:11 AM (PST)</td>\n      <td>jusncsu</td>\n      <td>2006 HUMMER H3 SUV 4dr SUV 4WD (3.5L 5cyl 5M)</td>\n      <td>2006 Adventure Package - Love this Car!!</td>\n      <td>I've owned it for a few years now (did a grea...</td>\n      <td>4.875</td>\n      <td>606</td>\n    </tr>\n    <tr>\n      <th>4</th>\n      <td>5209</td>\n      <td>on 08/28/03 00:00 AM (PDT)</td>\n      <td>roff_5</td>\n      <td>2003 Toyota Camry Solara Coupe SLE V6 2dr Coup...</td>\n      <td>You will never buy another car!</td>\n      <td>I finally got the one I really wanted \\nfor a...</td>\n      <td>4.875</td>\n      <td>555</td>\n    </tr>\n  </tbody>\n</table>\n</div>"
     },
     "metadata": {},
     "execution_count": 27
    }
   ],
   "source": [
    "shuffle_df.head()"
   ]
  },
  {
   "cell_type": "code",
   "execution_count": 28,
   "metadata": {},
   "outputs": [
    {
     "output_type": "execute_result",
     "data": {
      "text/plain": "62850"
     },
     "metadata": {},
     "execution_count": 28
    }
   ],
   "source": [
    "int(len(df) * 0.30)"
   ]
  },
  {
   "cell_type": "code",
   "execution_count": 29,
   "metadata": {},
   "outputs": [
    {
     "output_type": "execute_result",
     "data": {
      "text/plain": "146650"
     },
     "metadata": {},
     "execution_count": 29
    }
   ],
   "source": [
    "int(len(df) * 0.70)"
   ]
  },
  {
   "cell_type": "code",
   "execution_count": 30,
   "metadata": {},
   "outputs": [
    {
     "output_type": "execute_result",
     "data": {
      "text/plain": "209500"
     },
     "metadata": {},
     "execution_count": 30
    }
   ],
   "source": [
    "int(len(df) * 0.30) + int(len(df) * 0.70)"
   ]
  },
  {
   "cell_type": "code",
   "execution_count": 31,
   "metadata": {},
   "outputs": [
    {
     "output_type": "execute_result",
     "data": {
      "text/plain": "146650"
     },
     "metadata": {},
     "execution_count": 31
    }
   ],
   "source": [
    "len(shuffle_df.iloc[:int(len(df) * 0.70)])"
   ]
  },
  {
   "cell_type": "code",
   "execution_count": 32,
   "metadata": {},
   "outputs": [
    {
     "output_type": "execute_result",
     "data": {
      "text/plain": "62850"
     },
     "metadata": {},
     "execution_count": 32
    }
   ],
   "source": [
    "len(shuffle_df.iloc[int(len(df) * 0.70):])"
   ]
  },
  {
   "cell_type": "code",
   "execution_count": 33,
   "metadata": {},
   "outputs": [],
   "source": [
    "train_df = shuffle_df.iloc[:int(len(df) * 0.70)]\n",
    "test_df = shuffle_df.iloc[int(len(df) * 0.70):]"
   ]
  },
  {
   "cell_type": "markdown",
   "metadata": {},
   "source": [
    "# Export dataframes"
   ]
  },
  {
   "cell_type": "code",
   "execution_count": 34,
   "metadata": {},
   "outputs": [],
   "source": [
    "# train_df.to_pickle('train_df.pkl')\n",
    "# test_df.to_pickle('test_df.pkl')"
   ]
  },
  {
   "cell_type": "code",
   "execution_count": 35,
   "metadata": {},
   "outputs": [],
   "source": [
    "df.to_pickle('processed_data.pkl')"
   ]
  }
 ],
 "metadata": {
  "language_info": {
   "codemirror_mode": {
    "name": "ipython",
    "version": 3
   },
   "file_extension": ".py",
   "mimetype": "text/x-python",
   "name": "python",
   "nbconvert_exporter": "python",
   "pygments_lexer": "ipython3",
   "version": "3.8.2-final"
  },
  "orig_nbformat": 2,
  "kernelspec": {
   "name": "python38264bit0c31753cb4904f759510df829f98c315",
   "display_name": "Python 3.8.2 64-bit"
  }
 },
 "nbformat": 4,
 "nbformat_minor": 2
}