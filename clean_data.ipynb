{
 "cells": [
  {
   "cell_type": "markdown",
   "metadata": {},
   "source": [
    "# Setup"
   ]
  },
  {
   "cell_type": "markdown",
   "metadata": {},
   "source": [
    "## Import and check packages"
   ]
  },
  {
   "cell_type": "code",
   "execution_count": 1,
   "metadata": {},
   "outputs": [],
   "source": [
    "import sys\n",
    "import json\n",
    "import pandas as pd\n",
    "import numpy as np\n",
    "import os\n",
    "import csv\n",
    "import re, string"
   ]
  },
  {
   "cell_type": "code",
   "execution_count": 2,
   "metadata": {},
   "outputs": [
    {
     "output_type": "stream",
     "name": "stdout",
     "text": "Version check:\nPython: 3.8.2 (tags/v3.8.2:7b3ab59, Feb 25 2020, 23:03:10) [MSC v.1916 64 bit (AMD64)]\npandas: 1.0.3\nregex: 2.2.1\n"
    }
   ],
   "source": [
    "print('Version check:')\n",
    "print('Python: {}'.format(sys.version))\n",
    "print('pandas: {}'.format(pd.__version__))\n",
    "print('regex: {}'.format(re.__version__))"
   ]
  },
  {
   "cell_type": "markdown",
   "metadata": {},
   "source": [
    "## Functions"
   ]
  },
  {
   "cell_type": "code",
   "execution_count": 3,
   "metadata": {},
   "outputs": [],
   "source": [
    "def parse_file(path):\n",
    "    data = list()\n",
    "    with open(path, 'r') as f:\n",
    "        csv_reader = csv.reader(f, delimiter=',')\n",
    "        for row in csv_reader:\n",
    "            data.append(row)\n",
    "\n",
    "    return data"
   ]
  },
  {
   "cell_type": "markdown",
   "metadata": {},
   "source": [
    "# Import and prepare data"
   ]
  },
  {
   "cell_type": "code",
   "execution_count": 46,
   "metadata": {},
   "outputs": [
    {
     "output_type": "execute_result",
     "data": {
      "text/plain": "54"
     },
     "metadata": {},
     "execution_count": 46
    }
   ],
   "source": [
    "path = '/home/specc/Documents/school_files/453_nlp/assignment03_files/data_files/'\n",
    "#path = 'C:\\\\Users\\\\bxiao\\Documents\\\\school_files\\\\453_nlp\\\\assignments\\\\453_assignment03\\\\data_files\\\\'\n",
    "os.chdir(path) # set path to data files\n",
    "len(os.listdir()) # check how many files are present"
   ]
  },
  {
   "cell_type": "code",
   "execution_count": 49,
   "metadata": {},
   "outputs": [],
   "source": [
    "df = pd.DataFrame()\n",
    "for item in os.listdir():\n",
    "    if item.endswith('.csv'):\n",
    "        try:\n",
    "            data = parse_file(item)\n",
    "            temp_df = pd.DataFrame(data[1:], columns=data[0])\n",
    "            df = pd.concat([df, temp_df], ignore_index=0)\n",
    "        except:\n",
    "            continue"
   ]
  },
  {
   "cell_type": "code",
   "execution_count": 50,
   "metadata": {},
   "outputs": [
    {
     "output_type": "execute_result",
     "data": {
      "text/plain": "                      Review_Date       Author_Name  \\\n0  0   on 04/28/17 08:08 AM (PDT)   Garrett Stites    \n1  1   on 11/19/11 16:47 PM (PST)           debu99    \n2  2   on 06/28/07 22:12 PM (PDT)    Arnell Baylet    \n3  3   on 05/30/07 10:56 AM (PDT)          gregMTU    \n4  4   on 01/21/07 12:58 PM (PST)  Darrel McOnnery    \n\n                                       Vehicle_Title  \\\n0  2015 Ferrari 458 Italia Convertible Spider 2dr...   \n1  2006 Ferrari 612 Scaglietti Coupe F1 2dr Coupe...   \n2  2006 Ferrari 612 Scaglietti Coupe F1 2dr Coupe...   \n3  2006 Ferrari 612 Scaglietti Coupe F1 2dr Coupe...   \n4  2006 Ferrari 612 Scaglietti Coupe 2dr Coupe (5...   \n\n                                     Review_Title  \\\n0                            The best car around!   \n1                      keeps on beeing just great   \n2         Incredible Ride, Sticker Shock, Low MPG   \n3                              612 Scag The Best!   \n4  612 Scaglietti! Quietly the Best Ferrari Ever!   \n\n                                              Review Rating  \n0   This car gets great gas mileage and is the be...      5  \n1   Owning the 612 now over 3 years and using it ...   4.75  \n2   Best controllable acceleration ever witnessed...      5  \n3   The engine is strong pulling right up to 7000...      5  \n4   This car, the 612 Scaglietti,  is overlooked ...      5  ",
      "text/html": "<div>\n<style scoped>\n    .dataframe tbody tr th:only-of-type {\n        vertical-align: middle;\n    }\n\n    .dataframe tbody tr th {\n        vertical-align: top;\n    }\n\n    .dataframe thead th {\n        text-align: right;\n    }\n</style>\n<table border=\"1\" class=\"dataframe\">\n  <thead>\n    <tr style=\"text-align: right;\">\n      <th></th>\n      <th></th>\n      <th>Review_Date</th>\n      <th>Author_Name</th>\n      <th>Vehicle_Title</th>\n      <th>Review_Title</th>\n      <th>Review</th>\n      <th>Rating</th>\n    </tr>\n  </thead>\n  <tbody>\n    <tr>\n      <th>0</th>\n      <td>0</td>\n      <td>on 04/28/17 08:08 AM (PDT)</td>\n      <td>Garrett Stites</td>\n      <td>2015 Ferrari 458 Italia Convertible Spider 2dr...</td>\n      <td>The best car around!</td>\n      <td>This car gets great gas mileage and is the be...</td>\n      <td>5</td>\n    </tr>\n    <tr>\n      <th>1</th>\n      <td>1</td>\n      <td>on 11/19/11 16:47 PM (PST)</td>\n      <td>debu99</td>\n      <td>2006 Ferrari 612 Scaglietti Coupe F1 2dr Coupe...</td>\n      <td>keeps on beeing just great</td>\n      <td>Owning the 612 now over 3 years and using it ...</td>\n      <td>4.75</td>\n    </tr>\n    <tr>\n      <th>2</th>\n      <td>2</td>\n      <td>on 06/28/07 22:12 PM (PDT)</td>\n      <td>Arnell Baylet</td>\n      <td>2006 Ferrari 612 Scaglietti Coupe F1 2dr Coupe...</td>\n      <td>Incredible Ride, Sticker Shock, Low MPG</td>\n      <td>Best controllable acceleration ever witnessed...</td>\n      <td>5</td>\n    </tr>\n    <tr>\n      <th>3</th>\n      <td>3</td>\n      <td>on 05/30/07 10:56 AM (PDT)</td>\n      <td>gregMTU</td>\n      <td>2006 Ferrari 612 Scaglietti Coupe F1 2dr Coupe...</td>\n      <td>612 Scag The Best!</td>\n      <td>The engine is strong pulling right up to 7000...</td>\n      <td>5</td>\n    </tr>\n    <tr>\n      <th>4</th>\n      <td>4</td>\n      <td>on 01/21/07 12:58 PM (PST)</td>\n      <td>Darrel McOnnery</td>\n      <td>2006 Ferrari 612 Scaglietti Coupe 2dr Coupe (5...</td>\n      <td>612 Scaglietti! Quietly the Best Ferrari Ever!</td>\n      <td>This car, the 612 Scaglietti,  is overlooked ...</td>\n      <td>5</td>\n    </tr>\n  </tbody>\n</table>\n</div>"
     },
     "metadata": {},
     "execution_count": 50
    }
   ],
   "source": [
    "df.head()"
   ]
  },
  {
   "cell_type": "code",
   "execution_count": 8,
   "metadata": {},
   "outputs": [
    {
     "output_type": "execute_result",
     "data": {
      "text/plain": "                      Review_Date       Author_Name  \\\n4  4   on 01/05/09 13:12 PM (PST)        AceOfRace    \n5  5   on 01/03/09 22:07 PM (PST)  W. M. Delacroix    \n6  6   on 09/02/08 03:17 AM (PDT)       david_d413    \n7  7   on 04/20/08 02:32 AM (PDT)              Jay    \n8  8   on 07/31/06 07:49 AM (PDT)       Gary Talis    \n\n                                       Vehicle_Title  \\\n4  2008 Bugatti Veyron 16.4 Coupe 2dr Coupe AWD (...   \n5  2008 Bugatti Veyron 16.4 Coupe 2dr Coupe AWD (...   \n6  2008 Bugatti Veyron 16.4 Coupe Pur Sang 2dr Co...   \n7  2008 Bugatti Veyron 16.4 Coupe Pur Sang 2dr Co...   \n8  2006 Bugatti Veyron 16.4 Coupe 2dr Coupe AWD (...   \n\n                               Review_Title  \\\n4    Finest Piece Of Automotive Engineering   \n5  Excellent car, with some qualifications.   \n6                         This car rocks!!!   \n7            Worthwhile to upgrade to turbo   \n8                  Ultimate driving machine   \n\n                                              Review Rating  \n4   The Bugatti Veyron is the absolute best autom...    4.5  \n5   I purchased this car after an unfortunate mis...   4.25  \n6   I purchased my Bugatti 3 weeks ago, and at fi...   4.75  \n7   The coolest running machine in the world!! Th...  4.625  \n8   This is a car that a car lover of any age wou...  4.875  ",
      "text/html": "<div>\n<style scoped>\n    .dataframe tbody tr th:only-of-type {\n        vertical-align: middle;\n    }\n\n    .dataframe tbody tr th {\n        vertical-align: top;\n    }\n\n    .dataframe thead th {\n        text-align: right;\n    }\n</style>\n<table border=\"1\" class=\"dataframe\">\n  <thead>\n    <tr style=\"text-align: right;\">\n      <th></th>\n      <th></th>\n      <th>Review_Date</th>\n      <th>Author_Name</th>\n      <th>Vehicle_Title</th>\n      <th>Review_Title</th>\n      <th>Review</th>\n      <th>Rating</th>\n    </tr>\n  </thead>\n  <tbody>\n    <tr>\n      <th>4</th>\n      <td>4</td>\n      <td>on 01/05/09 13:12 PM (PST)</td>\n      <td>AceOfRace</td>\n      <td>2008 Bugatti Veyron 16.4 Coupe 2dr Coupe AWD (...</td>\n      <td>Finest Piece Of Automotive Engineering</td>\n      <td>The Bugatti Veyron is the absolute best autom...</td>\n      <td>4.5</td>\n    </tr>\n    <tr>\n      <th>5</th>\n      <td>5</td>\n      <td>on 01/03/09 22:07 PM (PST)</td>\n      <td>W. M. Delacroix</td>\n      <td>2008 Bugatti Veyron 16.4 Coupe 2dr Coupe AWD (...</td>\n      <td>Excellent car, with some qualifications.</td>\n      <td>I purchased this car after an unfortunate mis...</td>\n      <td>4.25</td>\n    </tr>\n    <tr>\n      <th>6</th>\n      <td>6</td>\n      <td>on 09/02/08 03:17 AM (PDT)</td>\n      <td>david_d413</td>\n      <td>2008 Bugatti Veyron 16.4 Coupe Pur Sang 2dr Co...</td>\n      <td>This car rocks!!!</td>\n      <td>I purchased my Bugatti 3 weeks ago, and at fi...</td>\n      <td>4.75</td>\n    </tr>\n    <tr>\n      <th>7</th>\n      <td>7</td>\n      <td>on 04/20/08 02:32 AM (PDT)</td>\n      <td>Jay</td>\n      <td>2008 Bugatti Veyron 16.4 Coupe Pur Sang 2dr Co...</td>\n      <td>Worthwhile to upgrade to turbo</td>\n      <td>The coolest running machine in the world!! Th...</td>\n      <td>4.625</td>\n    </tr>\n    <tr>\n      <th>8</th>\n      <td>8</td>\n      <td>on 07/31/06 07:49 AM (PDT)</td>\n      <td>Gary Talis</td>\n      <td>2006 Bugatti Veyron 16.4 Coupe 2dr Coupe AWD (...</td>\n      <td>Ultimate driving machine</td>\n      <td>This is a car that a car lover of any age wou...</td>\n      <td>4.875</td>\n    </tr>\n  </tbody>\n</table>\n</div>"
     },
     "metadata": {},
     "execution_count": 8
    }
   ],
   "source": [
    "df.tail()"
   ]
  },
  {
   "cell_type": "markdown",
   "metadata": {},
   "source": [
    "## Drop rows with no text review"
   ]
  },
  {
   "cell_type": "code",
   "execution_count": 9,
   "metadata": {},
   "outputs": [
    {
     "output_type": "execute_result",
     "data": {
      "text/plain": "8575"
     },
     "metadata": {},
     "execution_count": 9
    }
   ],
   "source": [
    "start_count = len(df)\n",
    "start_count"
   ]
  },
  {
   "cell_type": "code",
   "execution_count": 10,
   "metadata": {},
   "outputs": [
    {
     "output_type": "execute_result",
     "data": {
      "text/plain": "                                              Review_Date Author_Name  \\\n29        luxuriouson the inside. The sporty         None        None   \n30    exterior is also another factor in the         None        None   \n31   rating. I think that buying this car is         None        None   \n32   probably the best decission i have ever         None        None   \n33                                          m           5        None   \n..                                        ...         ...         ...   \n86      my husband one for his 35th birthday.        4.25        None   \n157  to it is the horrible fuel economy.  It         None        None   \n158   is way worse than my Ford Explorer was.         4.5        None   \n163    ladies just love it.  I got it stolen         None        None   \n164             once but I took care of that.           5        None   \n\n    Vehicle_Title Review_Title Review Rating  \n29           None         None   None   None  \n30           None         None   None   None  \n31           None         None   None   None  \n32           None         None   None   None  \n33           None         None   None   None  \n..            ...          ...    ...    ...  \n86           None         None   None   None  \n157          None         None   None   None  \n158          None         None   None   None  \n163          None         None   None   None  \n164          None         None   None   None  \n\n[2540 rows x 7 columns]",
      "text/html": "<div>\n<style scoped>\n    .dataframe tbody tr th:only-of-type {\n        vertical-align: middle;\n    }\n\n    .dataframe tbody tr th {\n        vertical-align: top;\n    }\n\n    .dataframe thead th {\n        text-align: right;\n    }\n</style>\n<table border=\"1\" class=\"dataframe\">\n  <thead>\n    <tr style=\"text-align: right;\">\n      <th></th>\n      <th></th>\n      <th>Review_Date</th>\n      <th>Author_Name</th>\n      <th>Vehicle_Title</th>\n      <th>Review_Title</th>\n      <th>Review</th>\n      <th>Rating</th>\n    </tr>\n  </thead>\n  <tbody>\n    <tr>\n      <th>29</th>\n      <td>luxuriouson the inside. The sporty</td>\n      <td>None</td>\n      <td>None</td>\n      <td>None</td>\n      <td>None</td>\n      <td>None</td>\n      <td>None</td>\n    </tr>\n    <tr>\n      <th>30</th>\n      <td>exterior is also another factor in the</td>\n      <td>None</td>\n      <td>None</td>\n      <td>None</td>\n      <td>None</td>\n      <td>None</td>\n      <td>None</td>\n    </tr>\n    <tr>\n      <th>31</th>\n      <td>rating. I think that buying this car is</td>\n      <td>None</td>\n      <td>None</td>\n      <td>None</td>\n      <td>None</td>\n      <td>None</td>\n      <td>None</td>\n    </tr>\n    <tr>\n      <th>32</th>\n      <td>probably the best decission i have ever</td>\n      <td>None</td>\n      <td>None</td>\n      <td>None</td>\n      <td>None</td>\n      <td>None</td>\n      <td>None</td>\n    </tr>\n    <tr>\n      <th>33</th>\n      <td>m</td>\n      <td>5</td>\n      <td>None</td>\n      <td>None</td>\n      <td>None</td>\n      <td>None</td>\n      <td>None</td>\n    </tr>\n    <tr>\n      <th>...</th>\n      <td>...</td>\n      <td>...</td>\n      <td>...</td>\n      <td>...</td>\n      <td>...</td>\n      <td>...</td>\n      <td>...</td>\n    </tr>\n    <tr>\n      <th>86</th>\n      <td>my husband one for his 35th birthday.</td>\n      <td>4.25</td>\n      <td>None</td>\n      <td>None</td>\n      <td>None</td>\n      <td>None</td>\n      <td>None</td>\n    </tr>\n    <tr>\n      <th>157</th>\n      <td>to it is the horrible fuel economy.  It</td>\n      <td>None</td>\n      <td>None</td>\n      <td>None</td>\n      <td>None</td>\n      <td>None</td>\n      <td>None</td>\n    </tr>\n    <tr>\n      <th>158</th>\n      <td>is way worse than my Ford Explorer was.</td>\n      <td>4.5</td>\n      <td>None</td>\n      <td>None</td>\n      <td>None</td>\n      <td>None</td>\n      <td>None</td>\n    </tr>\n    <tr>\n      <th>163</th>\n      <td>ladies just love it.  I got it stolen</td>\n      <td>None</td>\n      <td>None</td>\n      <td>None</td>\n      <td>None</td>\n      <td>None</td>\n      <td>None</td>\n    </tr>\n    <tr>\n      <th>164</th>\n      <td>once but I took care of that.</td>\n      <td>5</td>\n      <td>None</td>\n      <td>None</td>\n      <td>None</td>\n      <td>None</td>\n      <td>None</td>\n    </tr>\n  </tbody>\n</table>\n<p>2540 rows × 7 columns</p>\n</div>"
     },
     "metadata": {},
     "execution_count": 10
    }
   ],
   "source": [
    "df[df['Review'].isnull()]"
   ]
  },
  {
   "cell_type": "code",
   "execution_count": 11,
   "metadata": {},
   "outputs": [
    {
     "output_type": "execute_result",
     "data": {
      "text/plain": "                 owned all the names but the combination \nReview_Date                                          None\nAuthor_Name                                          None\nVehicle_Title                                        None\nReview_Title                                         None\nReview                                               None\nRating                                               None\nName: 200, dtype: object"
     },
     "metadata": {},
     "execution_count": 11
    }
   ],
   "source": [
    "df.iloc[200]"
   ]
  },
  {
   "cell_type": "code",
   "execution_count": 12,
   "metadata": {},
   "outputs": [
    {
     "output_type": "execute_result",
     "data": {
      "text/plain": "                 thing anyone could ever experience \nReview_Date                                     None\nAuthor_Name                                     None\nVehicle_Title                                   None\nReview_Title                                    None\nReview                                          None\nRating                                          None\nName: 240, dtype: object"
     },
     "metadata": {},
     "execution_count": 12
    }
   ],
   "source": [
    "df.iloc[500]"
   ]
  },
  {
   "cell_type": "code",
   "execution_count": 13,
   "metadata": {},
   "outputs": [
    {
     "output_type": "execute_result",
     "data": {
      "text/plain": "Index(['', 'Review_Date', 'Author_Name', 'Vehicle_Title', 'Review_Title',\n       'Review', 'Rating'],\n      dtype='object')"
     },
     "metadata": {},
     "execution_count": 13
    }
   ],
   "source": [
    "df.columns"
   ]
  },
  {
   "cell_type": "code",
   "execution_count": 14,
   "metadata": {},
   "outputs": [],
   "source": [
    "df = df[df['Review'].notnull()] # removing odd data points"
   ]
  },
  {
   "cell_type": "code",
   "execution_count": 15,
   "metadata": {},
   "outputs": [],
   "source": [
    "dropped_count = len(df) # comparing to old value"
   ]
  },
  {
   "cell_type": "code",
   "execution_count": 16,
   "metadata": {},
   "outputs": [
    {
     "output_type": "stream",
     "name": "stdout",
     "text": "Number of blank reviews: 2540\n"
    }
   ],
   "source": [
    "# difference\n",
    "rows_removed = start_count - dropped_count\n",
    "print('Number of blank reviews: {}'.format(rows_removed))"
   ]
  },
  {
   "cell_type": "markdown",
   "metadata": {},
   "source": [
    "## Remove reviews with fewer than 50 words"
   ]
  },
  {
   "cell_type": "code",
   "execution_count": 17,
   "metadata": {},
   "outputs": [],
   "source": [
    "## Reviews with less than 50 words\n",
    "def word_count(row):\n",
    "    num_words = len(row)\n",
    "\n",
    "    return num_words"
   ]
  },
  {
   "cell_type": "code",
   "execution_count": 18,
   "metadata": {},
   "outputs": [],
   "source": [
    "df['review_word_count'] = df['Review'].apply(word_count)"
   ]
  },
  {
   "cell_type": "code",
   "execution_count": 19,
   "metadata": {},
   "outputs": [
    {
     "output_type": "execute_result",
     "data": {
      "text/plain": "count    6035.000000\nmean      400.746976\nstd       271.401869\nmin         1.000000\n25%       207.000000\n50%       378.000000\n75%       598.000000\nmax      4467.000000\nName: review_word_count, dtype: float64"
     },
     "metadata": {},
     "execution_count": 19
    }
   ],
   "source": [
    "df.review_word_count.describe()"
   ]
  },
  {
   "cell_type": "code",
   "execution_count": 20,
   "metadata": {},
   "outputs": [],
   "source": [
    "before_len = len(df)"
   ]
  },
  {
   "cell_type": "code",
   "execution_count": 21,
   "metadata": {},
   "outputs": [],
   "source": [
    "df = df[df['review_word_count'] >= 50]"
   ]
  },
  {
   "cell_type": "code",
   "execution_count": 22,
   "metadata": {},
   "outputs": [],
   "source": [
    "after_len = len(df)"
   ]
  },
  {
   "cell_type": "code",
   "execution_count": 23,
   "metadata": {},
   "outputs": [
    {
     "output_type": "stream",
     "name": "stdout",
     "text": "Number of reviews with fewer than 50 words: 642\n"
    }
   ],
   "source": [
    "num_removed = before_len - after_len\n",
    "print('Number of reviews with fewer than 50 words: {}'.format(num_removed))"
   ]
  },
  {
   "cell_type": "markdown",
   "metadata": {},
   "source": [
    "## Remove reviews with no ratings"
   ]
  },
  {
   "cell_type": "code",
   "execution_count": 24,
   "metadata": {},
   "outputs": [],
   "source": [
    "start_count = len(df)"
   ]
  },
  {
   "cell_type": "code",
   "execution_count": 25,
   "metadata": {},
   "outputs": [
    {
     "output_type": "execute_result",
     "data": {
      "text/plain": "                      Review_Date       Author_Name  \\\n0  0   on 04/28/17 08:08 AM (PDT)   Garrett Stites    \n1  1   on 11/19/11 16:47 PM (PST)           debu99    \n2  2   on 06/28/07 22:12 PM (PDT)    Arnell Baylet    \n3  3   on 05/30/07 10:56 AM (PDT)          gregMTU    \n4  4   on 01/21/07 12:58 PM (PST)  Darrel McOnnery    \n\n                                       Vehicle_Title  \\\n0  2015 Ferrari 458 Italia Convertible Spider 2dr...   \n1  2006 Ferrari 612 Scaglietti Coupe F1 2dr Coupe...   \n2  2006 Ferrari 612 Scaglietti Coupe F1 2dr Coupe...   \n3  2006 Ferrari 612 Scaglietti Coupe F1 2dr Coupe...   \n4  2006 Ferrari 612 Scaglietti Coupe 2dr Coupe (5...   \n\n                                     Review_Title  \\\n0                            The best car around!   \n1                      keeps on beeing just great   \n2         Incredible Ride, Sticker Shock, Low MPG   \n3                              612 Scag The Best!   \n4  612 Scaglietti! Quietly the Best Ferrari Ever!   \n\n                                              Review Rating  review_word_count  \n0   This car gets great gas mileage and is the be...      5                 67  \n1   Owning the 612 now over 3 years and using it ...   4.75                193  \n2   Best controllable acceleration ever witnessed...      5                266  \n3   The engine is strong pulling right up to 7000...      5                172  \n4   This car, the 612 Scaglietti,  is overlooked ...      5                322  ",
      "text/html": "<div>\n<style scoped>\n    .dataframe tbody tr th:only-of-type {\n        vertical-align: middle;\n    }\n\n    .dataframe tbody tr th {\n        vertical-align: top;\n    }\n\n    .dataframe thead th {\n        text-align: right;\n    }\n</style>\n<table border=\"1\" class=\"dataframe\">\n  <thead>\n    <tr style=\"text-align: right;\">\n      <th></th>\n      <th></th>\n      <th>Review_Date</th>\n      <th>Author_Name</th>\n      <th>Vehicle_Title</th>\n      <th>Review_Title</th>\n      <th>Review</th>\n      <th>Rating</th>\n      <th>review_word_count</th>\n    </tr>\n  </thead>\n  <tbody>\n    <tr>\n      <th>0</th>\n      <td>0</td>\n      <td>on 04/28/17 08:08 AM (PDT)</td>\n      <td>Garrett Stites</td>\n      <td>2015 Ferrari 458 Italia Convertible Spider 2dr...</td>\n      <td>The best car around!</td>\n      <td>This car gets great gas mileage and is the be...</td>\n      <td>5</td>\n      <td>67</td>\n    </tr>\n    <tr>\n      <th>1</th>\n      <td>1</td>\n      <td>on 11/19/11 16:47 PM (PST)</td>\n      <td>debu99</td>\n      <td>2006 Ferrari 612 Scaglietti Coupe F1 2dr Coupe...</td>\n      <td>keeps on beeing just great</td>\n      <td>Owning the 612 now over 3 years and using it ...</td>\n      <td>4.75</td>\n      <td>193</td>\n    </tr>\n    <tr>\n      <th>2</th>\n      <td>2</td>\n      <td>on 06/28/07 22:12 PM (PDT)</td>\n      <td>Arnell Baylet</td>\n      <td>2006 Ferrari 612 Scaglietti Coupe F1 2dr Coupe...</td>\n      <td>Incredible Ride, Sticker Shock, Low MPG</td>\n      <td>Best controllable acceleration ever witnessed...</td>\n      <td>5</td>\n      <td>266</td>\n    </tr>\n    <tr>\n      <th>3</th>\n      <td>3</td>\n      <td>on 05/30/07 10:56 AM (PDT)</td>\n      <td>gregMTU</td>\n      <td>2006 Ferrari 612 Scaglietti Coupe F1 2dr Coupe...</td>\n      <td>612 Scag The Best!</td>\n      <td>The engine is strong pulling right up to 7000...</td>\n      <td>5</td>\n      <td>172</td>\n    </tr>\n    <tr>\n      <th>4</th>\n      <td>4</td>\n      <td>on 01/21/07 12:58 PM (PST)</td>\n      <td>Darrel McOnnery</td>\n      <td>2006 Ferrari 612 Scaglietti Coupe 2dr Coupe (5...</td>\n      <td>612 Scaglietti! Quietly the Best Ferrari Ever!</td>\n      <td>This car, the 612 Scaglietti,  is overlooked ...</td>\n      <td>5</td>\n      <td>322</td>\n    </tr>\n  </tbody>\n</table>\n</div>"
     },
     "metadata": {},
     "execution_count": 25
    }
   ],
   "source": [
    "df = df[df.Rating.notnull()]\n",
    "df.head()"
   ]
  },
  {
   "cell_type": "code",
   "execution_count": 26,
   "metadata": {},
   "outputs": [
    {
     "output_type": "stream",
     "name": "stdout",
     "text": "Number of rows with no ratings: 14\n"
    }
   ],
   "source": [
    "end_count = len(df)\n",
    "\n",
    "num_empty_ratings = start_count - end_count\n",
    "print('Number of rows with no ratings: {}'.format(num_empty_ratings))"
   ]
  },
  {
   "cell_type": "markdown",
   "metadata": {},
   "source": [
    "## Split train/test set"
   ]
  },
  {
   "cell_type": "code",
   "execution_count": 27,
   "metadata": {},
   "outputs": [],
   "source": [
    "shuffle_df = df.sample(frac=1).reset_index(drop=True)"
   ]
  },
  {
   "cell_type": "code",
   "execution_count": 28,
   "metadata": {},
   "outputs": [
    {
     "output_type": "execute_result",
     "data": {
      "text/plain": "                         Review_Date Author_Name  \\\n0   232   on 01/24/08 05:36 AM (PST)    Odyssey    \n1     7   on 10/14/10 00:00 AM (PDT)     taylor    \n2  2076   on 09/17/16 20:03 PM (PDT)   Angie K.    \n3   911   on 06/16/18 08:23 AM (PDT)        Jim    \n4  2511   on 02/09/10 07:08 AM (PST)     Greg E    \n\n                                       Vehicle_Title  \\\n0             1999 Isuzu Oasis Minivan S 4dr Minivan   \n1  2001 Isuzu Rodeo Sport SUV Soft Top 2WD 2dr SU...   \n2  2001 Mercury Cougar Hatchback 2dr Hatchback (2...   \n3  2001 Isuzu Trooper SUV LS 4WD 4dr SUV (3.5L 6c...   \n4  2004 Mercury Marauder Sedan 4dr Sedan (4.6L 8c...   \n\n                                Review_Title  \\\n0                             Wonderful car!   \n1        Great Truck But Check Transmission!   \n2                            Not A Smart Buy   \n3  it's 2018 and I still own my 2001 Trooper   \n4                                   Best Car   \n\n                                              Review Rating  review_word_count  \n0   Greatest value out there.  Since it says Isuz...  4.625                194  \n1   This has been a great truck for us. The only ...    4.5                697  \n2   We bought this Cougar with 80,000 miles on it...      1                322  \n3   It's 2018 and I still own my 2001 Trooper. I ...      5                830  \n4   I've owned alot of cars over the years, and t...      5                158  ",
      "text/html": "<div>\n<style scoped>\n    .dataframe tbody tr th:only-of-type {\n        vertical-align: middle;\n    }\n\n    .dataframe tbody tr th {\n        vertical-align: top;\n    }\n\n    .dataframe thead th {\n        text-align: right;\n    }\n</style>\n<table border=\"1\" class=\"dataframe\">\n  <thead>\n    <tr style=\"text-align: right;\">\n      <th></th>\n      <th></th>\n      <th>Review_Date</th>\n      <th>Author_Name</th>\n      <th>Vehicle_Title</th>\n      <th>Review_Title</th>\n      <th>Review</th>\n      <th>Rating</th>\n      <th>review_word_count</th>\n    </tr>\n  </thead>\n  <tbody>\n    <tr>\n      <th>0</th>\n      <td>232</td>\n      <td>on 01/24/08 05:36 AM (PST)</td>\n      <td>Odyssey</td>\n      <td>1999 Isuzu Oasis Minivan S 4dr Minivan</td>\n      <td>Wonderful car!</td>\n      <td>Greatest value out there.  Since it says Isuz...</td>\n      <td>4.625</td>\n      <td>194</td>\n    </tr>\n    <tr>\n      <th>1</th>\n      <td>7</td>\n      <td>on 10/14/10 00:00 AM (PDT)</td>\n      <td>taylor</td>\n      <td>2001 Isuzu Rodeo Sport SUV Soft Top 2WD 2dr SU...</td>\n      <td>Great Truck But Check Transmission!</td>\n      <td>This has been a great truck for us. The only ...</td>\n      <td>4.5</td>\n      <td>697</td>\n    </tr>\n    <tr>\n      <th>2</th>\n      <td>2076</td>\n      <td>on 09/17/16 20:03 PM (PDT)</td>\n      <td>Angie K.</td>\n      <td>2001 Mercury Cougar Hatchback 2dr Hatchback (2...</td>\n      <td>Not A Smart Buy</td>\n      <td>We bought this Cougar with 80,000 miles on it...</td>\n      <td>1</td>\n      <td>322</td>\n    </tr>\n    <tr>\n      <th>3</th>\n      <td>911</td>\n      <td>on 06/16/18 08:23 AM (PDT)</td>\n      <td>Jim</td>\n      <td>2001 Isuzu Trooper SUV LS 4WD 4dr SUV (3.5L 6c...</td>\n      <td>it's 2018 and I still own my 2001 Trooper</td>\n      <td>It's 2018 and I still own my 2001 Trooper. I ...</td>\n      <td>5</td>\n      <td>830</td>\n    </tr>\n    <tr>\n      <th>4</th>\n      <td>2511</td>\n      <td>on 02/09/10 07:08 AM (PST)</td>\n      <td>Greg E</td>\n      <td>2004 Mercury Marauder Sedan 4dr Sedan (4.6L 8c...</td>\n      <td>Best Car</td>\n      <td>I've owned alot of cars over the years, and t...</td>\n      <td>5</td>\n      <td>158</td>\n    </tr>\n  </tbody>\n</table>\n</div>"
     },
     "metadata": {},
     "execution_count": 28
    }
   ],
   "source": [
    "shuffle_df.head()"
   ]
  },
  {
   "cell_type": "code",
   "execution_count": 29,
   "metadata": {},
   "outputs": [
    {
     "output_type": "execute_result",
     "data": {
      "text/plain": "1613"
     },
     "metadata": {},
     "execution_count": 29
    }
   ],
   "source": [
    "int(len(df) * 0.30)"
   ]
  },
  {
   "cell_type": "code",
   "execution_count": 30,
   "metadata": {},
   "outputs": [
    {
     "output_type": "execute_result",
     "data": {
      "text/plain": "3765"
     },
     "metadata": {},
     "execution_count": 30
    }
   ],
   "source": [
    "int(len(df) * 0.70)"
   ]
  },
  {
   "cell_type": "code",
   "execution_count": 31,
   "metadata": {},
   "outputs": [
    {
     "output_type": "execute_result",
     "data": {
      "text/plain": "5378"
     },
     "metadata": {},
     "execution_count": 31
    }
   ],
   "source": [
    "int(len(df) * 0.30) + int(len(df) * 0.70)"
   ]
  },
  {
   "cell_type": "code",
   "execution_count": 32,
   "metadata": {},
   "outputs": [
    {
     "output_type": "execute_result",
     "data": {
      "text/plain": "3765"
     },
     "metadata": {},
     "execution_count": 32
    }
   ],
   "source": [
    "len(shuffle_df.iloc[:int(len(df) * 0.70)])"
   ]
  },
  {
   "cell_type": "code",
   "execution_count": 33,
   "metadata": {},
   "outputs": [
    {
     "output_type": "execute_result",
     "data": {
      "text/plain": "1614"
     },
     "metadata": {},
     "execution_count": 33
    }
   ],
   "source": [
    "len(shuffle_df.iloc[int(len(df) * 0.70):])"
   ]
  },
  {
   "cell_type": "code",
   "execution_count": 34,
   "metadata": {},
   "outputs": [],
   "source": [
    "train_df = shuffle_df.iloc[:int(len(df) * 0.70)]\n",
    "test_df = shuffle_df.iloc[int(len(df) * 0.70):]"
   ]
  },
  {
   "cell_type": "markdown",
   "metadata": {},
   "source": [
    "# Export dataframes"
   ]
  },
  {
   "cell_type": "code",
   "execution_count": 35,
   "metadata": {},
   "outputs": [],
   "source": [
    "# train_df.to_pickle('train_df.pkl')\n",
    "# test_df.to_pickle('test_df.pkl')"
   ]
  },
  {
   "cell_type": "code",
   "execution_count": 36,
   "metadata": {},
   "outputs": [],
   "source": [
    "df.to_pickle('processed_data.pkl')"
   ]
  }
 ],
 "metadata": {
  "language_info": {
   "codemirror_mode": {
    "name": "ipython",
    "version": 3
   },
   "file_extension": ".py",
   "mimetype": "text/x-python",
   "name": "python",
   "nbconvert_exporter": "python",
   "pygments_lexer": "ipython3",
   "version": "3.8.2-final"
  },
  "orig_nbformat": 2,
  "kernelspec": {
   "name": "python38264bit6856d88cfbdd4470a5dbe9825bc003a0",
   "display_name": "Python 3.8.2 64-bit"
  }
 },
 "nbformat": 4,
 "nbformat_minor": 2
}